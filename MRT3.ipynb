{
  "nbformat": 4,
  "nbformat_minor": 0,
  "metadata": {
    "colab": {
      "name": "Market Research Tool v 0.2.1.ipynb",
      "provenance": []
    },
    "kernelspec": {
      "display_name": "Python 3",
      "language": "python",
      "name": "python3"
    },
    "language_info": {
      "codemirror_mode": {
        "name": "ipython",
        "version": 3
      },
      "file_extension": ".py",
      "mimetype": "text/x-python",
      "name": "python",
      "nbconvert_exporter": "python",
      "pygments_lexer": "ipython3",
      "version": "3.8.0"
    },
    "widgets": {
      "application/vnd.jupyter.widget-state+json": {
        "53cbcd43b02b4d858abed3b766b1558b": {
          "model_module": "@jupyter-widgets/controls",
          "model_name": "TextareaModel",
          "state": {
            "_view_name": "TextareaView",
            "style": "IPY_MODEL_2c8e40e9b1f14ca6b0c44013b036fdcf",
            "rows": null,
            "_dom_classes": [],
            "description": "Input text",
            "_model_name": "TextareaModel",
            "placeholder": "Copy text from your document here",
            "_view_module": "@jupyter-widgets/controls",
            "_model_module_version": "1.5.0",
            "value": "",
            "_view_count": null,
            "disabled": false,
            "_view_module_version": "1.5.0",
            "continuous_update": true,
            "description_tooltip": null,
            "_model_module": "@jupyter-widgets/controls",
            "layout": "IPY_MODEL_01e81d98edda4c4fb50d3c97f37955f9"
          }
        },
        "2c8e40e9b1f14ca6b0c44013b036fdcf": {
          "model_module": "@jupyter-widgets/controls",
          "model_name": "DescriptionStyleModel",
          "state": {
            "_view_name": "StyleView",
            "_model_name": "DescriptionStyleModel",
            "description_width": "",
            "_view_module": "@jupyter-widgets/base",
            "_model_module_version": "1.5.0",
            "_view_count": null,
            "_view_module_version": "1.2.0",
            "_model_module": "@jupyter-widgets/controls"
          }
        },
        "01e81d98edda4c4fb50d3c97f37955f9": {
          "model_module": "@jupyter-widgets/base",
          "model_name": "LayoutModel",
          "state": {
            "_view_name": "LayoutView",
            "grid_template_rows": null,
            "right": null,
            "justify_content": null,
            "_view_module": "@jupyter-widgets/base",
            "overflow": null,
            "_model_module_version": "1.2.0",
            "_view_count": null,
            "flex_flow": null,
            "width": "800px",
            "min_width": null,
            "border": null,
            "align_items": null,
            "bottom": null,
            "_model_module": "@jupyter-widgets/base",
            "top": null,
            "grid_column": null,
            "overflow_y": null,
            "overflow_x": null,
            "grid_auto_flow": null,
            "grid_area": null,
            "grid_template_columns": null,
            "flex": null,
            "_model_name": "LayoutModel",
            "justify_items": null,
            "grid_row": null,
            "max_height": null,
            "align_content": null,
            "visibility": null,
            "align_self": null,
            "height": "100px",
            "min_height": null,
            "padding": null,
            "grid_auto_rows": null,
            "grid_gap": null,
            "max_width": null,
            "order": null,
            "_view_module_version": "1.2.0",
            "grid_template_areas": null,
            "object_position": null,
            "object_fit": null,
            "grid_auto_columns": null,
            "margin": null,
            "display": null,
            "left": null
          }
        },
        "7bcf6f1976bd4b7d811773bc92c117e4": {
          "model_module": "@jupyter-widgets/controls",
          "model_name": "ButtonModel",
          "state": {
            "_view_name": "ButtonView",
            "style": "IPY_MODEL_08d66ccf91a44748a045f2c2b81d9233",
            "_dom_classes": [],
            "description": "Search",
            "_model_name": "ButtonModel",
            "button_style": "",
            "_view_module": "@jupyter-widgets/controls",
            "_model_module_version": "1.5.0",
            "tooltip": "",
            "_view_count": null,
            "disabled": false,
            "_view_module_version": "1.5.0",
            "layout": "IPY_MODEL_f7d045a8fd7e46169916e7ecd220b4d5",
            "_model_module": "@jupyter-widgets/controls",
            "icon": ""
          }
        },
        "08d66ccf91a44748a045f2c2b81d9233": {
          "model_module": "@jupyter-widgets/controls",
          "model_name": "ButtonStyleModel",
          "state": {
            "_view_name": "StyleView",
            "_model_name": "ButtonStyleModel",
            "_view_module": "@jupyter-widgets/base",
            "_model_module_version": "1.5.0",
            "_view_count": null,
            "button_color": null,
            "font_weight": "",
            "_view_module_version": "1.2.0",
            "_model_module": "@jupyter-widgets/controls"
          }
        },
        "f7d045a8fd7e46169916e7ecd220b4d5": {
          "model_module": "@jupyter-widgets/base",
          "model_name": "LayoutModel",
          "state": {
            "_view_name": "LayoutView",
            "grid_template_rows": null,
            "right": null,
            "justify_content": null,
            "_view_module": "@jupyter-widgets/base",
            "overflow": null,
            "_model_module_version": "1.2.0",
            "_view_count": null,
            "flex_flow": null,
            "width": "300px",
            "min_width": null,
            "border": null,
            "align_items": null,
            "bottom": null,
            "_model_module": "@jupyter-widgets/base",
            "top": null,
            "grid_column": null,
            "overflow_y": null,
            "overflow_x": null,
            "grid_auto_flow": null,
            "grid_area": null,
            "grid_template_columns": null,
            "flex": null,
            "_model_name": "LayoutModel",
            "justify_items": null,
            "grid_row": null,
            "max_height": null,
            "align_content": null,
            "visibility": null,
            "align_self": null,
            "height": "auto",
            "min_height": null,
            "padding": null,
            "grid_auto_rows": null,
            "grid_gap": null,
            "max_width": null,
            "order": null,
            "_view_module_version": "1.2.0",
            "grid_template_areas": null,
            "object_position": null,
            "object_fit": null,
            "grid_auto_columns": null,
            "margin": null,
            "display": null,
            "left": null
          }
        }
      }
    }
  },
  "cells": [
    {
      "cell_type": "markdown",
      "metadata": {
        "id": "2t2828GIxEB6",
        "colab_type": "text"
      },
      "source": [
        "# Market Research Tool v 0.2\n",
        "##### Author: Jakub Supera, CTO Innovatie team | Requests or problems? j.supera@amsterdam.nl\n",
        "\n",
        "######Except as represented in this agreement, all work product by Developer is provided ​“AS IS”. Other than as provided in this agreement, Developer makes no other warranties, express or implied, and hereby disclaims all implied warranties, including any warranty of merchantability and warranty of fitness for a particular purpose."
      ]
    },
    {
      "cell_type": "code",
      "metadata": {
        "id": "b2HjK9dyxaHf",
        "colab_type": "code",
        "colab": {}
      },
      "source": [
        "%%capture\n",
        "!pip install summa\n",
        "!pip install TextBlob\n",
        "!pip install googlesearch"
      ],
      "execution_count": 0,
      "outputs": []
    },
    {
      "cell_type": "code",
      "metadata": {
        "id": "g_qyLwKxzKVw",
        "colab_type": "code",
        "colab": {}
      },
      "source": [
        "print(\"\\n \\n All packages installed. You can start working\")"
      ],
      "execution_count": 0,
      "outputs": []
    },
    {
      "cell_type": "code",
      "metadata": {
        "id": "JTZbNQnZxECB",
        "colab_type": "code",
        "colab": {
          "base_uri": "https://localhost:8080/",
          "height": 121,
          "referenced_widgets": [
            "53cbcd43b02b4d858abed3b766b1558b",
            "2c8e40e9b1f14ca6b0c44013b036fdcf",
            "01e81d98edda4c4fb50d3c97f37955f9"
          ]
        },
        "outputId": "76d23f5c-86cb-4801-d8df-c6a6c427f97c"
      },
      "source": [
        "\n",
        "import ipywidgets as widgets\n",
        "\n",
        "text = widgets.Textarea(\n",
        "    placeholder='Copy text from your document here',\n",
        "    description='Input text',\n",
        "    disabled=False,\n",
        "    layout={'width': '800px','height':'100px'}\n",
        ")\n",
        "text"
      ],
      "execution_count": 10,
      "outputs": [
        {
          "output_type": "display_data",
          "data": {
            "application/vnd.jupyter.widget-view+json": {
              "model_id": "53cbcd43b02b4d858abed3b766b1558b",
              "version_minor": 0,
              "version_major": 2
            },
            "text/plain": [
              "Textarea(value='', description='Input text', layout=Layout(height='100px', width='800px'), placeholder='Copy t…"
            ]
          },
          "metadata": {
            "tags": []
          }
        }
      ]
    },
    {
      "cell_type": "code",
      "metadata": {
        "id": "ugZRxODGxECd",
        "colab_type": "code",
        "colab": {
          "base_uri": "https://localhost:8080/",
          "height": 17
        },
        "outputId": "d972e909-5ca0-4851-e5ac-dde30584c686"
      },
      "source": [
        "%%javascript\n",
        "IPython.OutputArea.prototype._should_scroll = function(lines) {\n",
        "    return false;\n",
        "}"
      ],
      "execution_count": 2,
      "outputs": [
        {
          "output_type": "display_data",
          "data": {
            "application/javascript": [
              "IPython.OutputArea.prototype._should_scroll = function(lines) {\n",
              "    return false;\n",
              "}"
            ],
            "text/plain": [
              "<IPython.core.display.Javascript object>"
            ]
          },
          "metadata": {
            "tags": []
          }
        }
      ]
    },
    {
      "cell_type": "code",
      "metadata": {
        "scrolled": true,
        "id": "eVoIqWCLxECs",
        "colab_type": "code",
        "colab": {
          "base_uri": "https://localhost:8080/",
          "height": 1000,
          "referenced_widgets": [
            "7bcf6f1976bd4b7d811773bc92c117e4",
            "08d66ccf91a44748a045f2c2b81d9233",
            "f7d045a8fd7e46169916e7ecd220b4d5"
          ]
        },
        "outputId": "981982ea-bea7-4714-f491-0375bf487645"
      },
      "source": [
        "import ipywidgets as widgets\n",
        "from IPython.display import display\n",
        "import summa\n",
        "\n",
        "button = widgets.Button(description=\"Search\", layout={'width': '300px','height':'auto'})\n",
        "\n",
        "\n",
        "display(button)\n",
        "\n",
        "def on_button_clicked(b):\n",
        "    data1 = str(text.value)\n",
        "    data = data1.replace('\\n', '')\n",
        "\n",
        "    from summa.summarizer import summarize\n",
        "    summary = summarize(data, language='dutch', words=50)\n",
        "\n",
        "    print(\"\\nYour document summary\\n\")\n",
        "    print(summary)\n",
        "\n",
        "    from textblob import TextBlob\n",
        "    from summa import keywords\n",
        "    keywords1 = keywords.keywords(summary,words=2,language='dutch')\n",
        "\n",
        "    nl_blob = TextBlob(keywords1)\n",
        "    nl_blob.detect_language()\n",
        "\n",
        "\n",
        "    keywords2 = nl_blob.translate(to='en')\n",
        "    keywords = str(keywords2)\n",
        "\n",
        "    print(\"\\nProposed keywords\\n\")\n",
        "    print(keywords)\n",
        "    \n",
        "    \n",
        "    print(\"\\nSIFTED.COM\\n\")\n",
        "    try: \n",
        "        from googlesearch import search \n",
        "    except ImportError:  \n",
        "        print(\"No module named 'google' found\") \n",
        "\n",
        "    # to search \n",
        "    query = \"site: sifted.eu \"+keywords\n",
        "    for j in search(query, tld=\"co.in\", num=10, stop=10, pause=2,): \n",
        "        print(j)  \n",
        "        \n",
        "    print(\"\\nWIRED.COM\\n\")\n",
        "    try: \n",
        "        from googlesearch import search \n",
        "    except ImportError:  \n",
        "        print(\"No module named 'google' found\") \n",
        "\n",
        "    # to search \n",
        "    query = \"site: wired.com/ \"+keywords\n",
        "    for j in search(query, tld=\"co.in\", num=10, stop=10, pause=2,): \n",
        "        print(j) \n",
        "    \n",
        "    print(\"\\nDEALROOM.CO\\n\")\n",
        "    \n",
        "    try: \n",
        "        from googlesearch import search \n",
        "    except ImportError:  \n",
        "        print(\"No module named 'google' found\") \n",
        "\n",
        "    # to search \n",
        "    query = \"site: app.dealroom.co/companies.startups \"+keywords\n",
        "    for j in search(query, tld=\"co.in\", num=10, stop=10, pause=2,): \n",
        "        print(j) \n",
        "\n",
        "    print(\"\\nANGEL.CO\\n\")\n",
        "    \n",
        "\n",
        "    try: \n",
        "        from googlesearch import search \n",
        "    except ImportError:  \n",
        "        print(\"No module named 'google' found\") \n",
        "\n",
        "    # to search \n",
        "    query = \"site: angel.co \"+keywords\n",
        "    for j in search(query, tld=\"co.in\", num=10, stop=10, pause=2,): \n",
        "        print(j) \n",
        "\n",
        "    print(\"\\nSILICONCANALS.COM\\n\")\n",
        "    try: \n",
        "        from googlesearch import search \n",
        "    except ImportError:  \n",
        "        print(\"No module named 'google' found\") \n",
        "\n",
        "    # to search \n",
        "    query = \"site: siliconcanals.com/ \"+keywords\n",
        "    for j in search(query, tld=\"co.in\", num=10, stop=10, pause=2,): \n",
        "        print(j) \n",
        "\n",
        "    print(\"\\nSPROUT.NL\\n\")\n",
        "    try: \n",
        "        from googlesearch import search \n",
        "    except ImportError:  \n",
        "        print(\"No module named 'google' found\") \n",
        "\n",
        "    # to search \n",
        "    query = \"site: sprout.nl/ \"+keywords1\n",
        "    for j in search(query, tld=\"co.in\", num=10, stop=10, pause=2,): \n",
        "        print(j) \n",
        "\n",
        "button.on_click(on_button_clicked)"
      ],
      "execution_count": 6,
      "outputs": [
        {
          "output_type": "display_data",
          "data": {
            "application/vnd.jupyter.widget-view+json": {
              "model_id": "7bcf6f1976bd4b7d811773bc92c117e4",
              "version_minor": 0,
              "version_major": 2
            },
            "text/plain": [
              "Button(description='Search', layout=Layout(height='auto', width='300px'), style=ButtonStyle())"
            ]
          },
          "metadata": {
            "tags": []
          }
        },
        {
          "output_type": "stream",
          "text": [
            "\n",
            "Your document summary\n",
            "\n",
            "rustigere routes, groener, schoner en comfortabeler - comfortabel (door)fietsen betekent ook royale, directe, snelle en egale en herkenbare routes - fijnmazig netwerk van autoluwe fietsstraat of vrij liggende fietspaden (infrastructurele projecten)Verleiding fietsers om deze routes te nemen is key.Subdoel 1: druk op fietsnetwerk verlichten, levert ook minder stress/druk op fietserSubdoel 2: fietser gerichter over aantrekkelijke routes laten fietsen - meer bekendheid en vindbaarheid (herkenbaarheid) van zulke routes, zoals GroennetSubdoel 3: ontwijken van werkzaamhedenPositief neveneffect: fietsgedrag van fietsers wordt beter, sociale normen/waardenCriteria:Niet zozeer Pro-actieve oplossing / fietser gewoontedier  = zoeken naar oplossing die fietser bediend, servicegericht.\n",
            "\n",
            "Proposed keywords\n",
            "\n",
            "cyclists\n",
            "cyclist\n",
            "routes\n",
            "\n",
            "SIFTED.COM\n",
            "\n",
            "https://sifted.eu/articles/cowboy-bike-launch-uk/\n",
            "https://sifted.eu/dutch-startups-top-rankings/\n",
            "https://sifted.eu/articles/cargoroo-ecargo-bikes-startup/\n",
            "https://sifted.eu/articles/scooter-startups-comparison-voi-flash-bird-lime-dott-wind-tier/\n",
            "https://sifted.eu/austria-startups-top-rankings/\n",
            "https://sifted.eu/articles/voi-under-attack-from-swedish-agency-after-scooter-death/\n",
            "http://exhs.advokat-wine.ru/hybrid-bike.html\n",
            "https://www.dailymail.co.uk/news/london/index.html\n",
            "https://www.redbull.com/au-en/top-adventure-photos-of-decade\n",
            "https://www.archtoolbox.com/archlinks/\n",
            "\n",
            "WIRED.COM\n",
            "\n",
            "https://www.wired.com/tag/cycling/\n",
            "https://www.wired.com/story/most-bike-friendly-cities-2019-copenhagenize-design-index/\n",
            "https://www.wired.com/story/bmw-elevated-bike-cyclist-paths-concept/\n",
            "https://www.wired.com/story/world-best-cycling-cities-copenhagenize/\n",
            "https://www.wired.com/story/bike-cross-country-old-rails-get-you-there/\n",
            "https://www.wired.com/2015/06/copenhagenize-worlds-most-bike-friendly-cities/\n",
            "https://www.wired.com/2010/03/google-maps-for-bikes/\n",
            "https://www.wired.com/2014/01/skycycle/\n",
            "https://www.wired.com/2015/05/ranked-bike-friendly-states-us/\n",
            "https://www.wired.com/story/ntsb-cycling-safety-report-bike-lanes-helmet-laws/\n",
            "\n",
            "DEALROOM.CO\n",
            "\n",
            "https://app.dealroom.co/companies.startups\n",
            "https://app.dealroom.co/companies/clue_app\n",
            "https://app.dealroom.co/companies/zwift\n",
            "https://map.startuplithuania.lt/companies/bikemap\n",
            "https://sifted.eu/austria-startups-top-rankings/\n",
            "https://sifted.eu/dutch-startups-top-rankings/\n",
            "https://www.iamsterdam.com/en/business/startupamsterdam/news/featured/how-to-make-the-most-of-the-amsterdam-startup-map\n",
            "https://www.iamsterdam.com/en/business/news-and-insights/news/2018/amsterdam-based-startups-received-funding-of-322m-euros-in-2017\n",
            "https://sanfrancisco.startups-list.com/\n",
            "https://sanfrancisco.startups-list.com/?sort=new\n",
            "\n",
            "ANGEL.CO\n",
            "\n",
            "https://angel.co/company/bikemap-net\n",
            "https://angel.co/company/ay-em-cycling\n",
            "https://angel.co/company/bikeep-1\n",
            "https://angel.co/company/peloton\n",
            "https://angel.co/company/weareberyl\n",
            "https://angel.co/company/cyclescp/jobs/104896-cofounder-and-chief-of-engineering\n",
            "https://angel.co/company/kappo\n",
            "https://angel.co/bicycles\n",
            "https://angel.co/company/bumsonthesaddle\n",
            "https://angelisland.com/biking-your-way-up-down-and-around-angel-island/\n",
            "\n",
            "SILICONCANALS.COM\n",
            "\n",
            "https://siliconcanals.com/news/popular-dutch-biking-startup-swapfiets-introduces-business-bicycle-subscription/\n",
            "https://siliconcanals.com/news/dutch-startup-alternative-to-owning-bike-netflix-subscription-model/\n",
            "https://siliconcanals.com/news/3-unique-ways-dutch-bike-startup-swapfiets-is-winning-customers-and-growing-business-rapidly/\n",
            "https://siliconcanals.com/news/startups/in-amsterdam-for-this-holiday-season-these-apps-from-dutch-startups-could-be-very-useful-for-you/\n",
            "https://www.hollandcyclingroutes.com/online-cycle-route-planner\n",
            "https://www.holland-cycling.com/where-to-go/long-distance-cycle-routes/national-long-distance-cycle-network\n",
            "https://www.holland-cycling.com/tips-and-info/safety/traffic-rules-and-regulations-for-cyclists\n",
            "https://en.wikipedia.org/wiki/Cycling_in_the_Netherlands\n",
            "https://www.vox.com/science-and-health/2018/8/28/17789510/bike-cycling-netherlands-dutch-infrastructure\n",
            "\n",
            "SPROUT.NL\n",
            "\n",
            "https://www.fietsplatform.nl/informatie/english\n",
            "https://www.sprout.nl/artikel/de-weerstand-tegen-de-e-step-lijkt-op-het-verzet-tegen-de-fiets-rond-1870\n",
            "https://www.route.nl/uitgelicht/routes/pieterpad-fietserspad\n",
            "https://www.europafietsers.nl/fietsroutes\n",
            "https://www.fietsersbond.nl/english-info/\n"
          ],
          "name": "stdout"
        }
      ]
    }
  ]
}