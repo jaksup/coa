{
  "nbformat": 4,
  "nbformat_minor": 0,
  "metadata": {
    "colab": {
      "name": "Market Research Tool v 0.2.1.ipynb",
      "provenance": []
    },
    "kernelspec": {
      "display_name": "Python 3",
      "language": "python",
      "name": "python3"
    },
    "language_info": {
      "codemirror_mode": {
        "name": "ipython",
        "version": 3
      },
      "file_extension": ".py",
      "mimetype": "text/x-python",
      "name": "python",
      "nbconvert_exporter": "python",
      "pygments_lexer": "ipython3",
      "version": "3.8.0"
    },
    "widgets": {
      "application/vnd.jupyter.widget-state+json": {
        "53cbcd43b02b4d858abed3b766b1558b": {
          "model_module": "@jupyter-widgets/controls",
          "model_name": "TextareaModel",
          "state": {
            "_view_name": "TextareaView",
            "style": "IPY_MODEL_2c8e40e9b1f14ca6b0c44013b036fdcf",
            "rows": null,
            "_dom_classes": [],
            "description": "Input text",
            "_model_name": "TextareaModel",
            "placeholder": "Copy text from your document here",
            "_view_module": "@jupyter-widgets/controls",
            "_model_module_version": "1.5.0",
            "value": "",
            "_view_count": null,
            "disabled": false,
            "_view_module_version": "1.5.0",
            "continuous_update": true,
            "description_tooltip": null,
            "_model_module": "@jupyter-widgets/controls",
            "layout": "IPY_MODEL_01e81d98edda4c4fb50d3c97f37955f9"
          }
        },
        "2c8e40e9b1f14ca6b0c44013b036fdcf": {
          "model_module": "@jupyter-widgets/controls",
          "model_name": "DescriptionStyleModel",
          "state": {
            "_view_name": "StyleView",
            "_model_name": "DescriptionStyleModel",
            "description_width": "",
            "_view_module": "@jupyter-widgets/base",
            "_model_module_version": "1.5.0",
            "_view_count": null,
            "_view_module_version": "1.2.0",
            "_model_module": "@jupyter-widgets/controls"
          }
        },
        "01e81d98edda4c4fb50d3c97f37955f9": {
          "model_module": "@jupyter-widgets/base",
          "model_name": "LayoutModel",
          "state": {
            "_view_name": "LayoutView",
            "grid_template_rows": null,
            "right": null,
            "justify_content": null,
            "_view_module": "@jupyter-widgets/base",
            "overflow": null,
            "_model_module_version": "1.2.0",
            "_view_count": null,
            "flex_flow": null,
            "width": "800px",
            "min_width": null,
            "border": null,
            "align_items": null,
            "bottom": null,
            "_model_module": "@jupyter-widgets/base",
            "top": null,
            "grid_column": null,
            "overflow_y": null,
            "overflow_x": null,
            "grid_auto_flow": null,
            "grid_area": null,
            "grid_template_columns": null,
            "flex": null,
            "_model_name": "LayoutModel",
            "justify_items": null,
            "grid_row": null,
            "max_height": null,
            "align_content": null,
            "visibility": null,
            "align_self": null,
            "height": "100px",
            "min_height": null,
            "padding": null,
            "grid_auto_rows": null,
            "grid_gap": null,
            "max_width": null,
            "order": null,
            "_view_module_version": "1.2.0",
            "grid_template_areas": null,
            "object_position": null,
            "object_fit": null,
            "grid_auto_columns": null,
            "margin": null,
            "display": null,
            "left": null
          }
        }
      }
    }
  },
  "cells": [
    {
      "cell_type": "markdown",
      "metadata": {
        "id": "2t2828GIxEB6",
        "colab_type": "text"
      },
      "source": [
        "# Market Research Tool v 0.2\n",
        "Author: Jakub Supera, CTO Innovatie team | Requests or problems? j.supera@amsterdam.nl\n",
        "\n",
        "Except as represented in this agreement, all work product by Developer is provided ​“AS IS”. Other than as provided in this agreement, Developer makes no other warranties, express or implied, and hereby disclaims all implied warranties, including any warranty of merchantability and warranty of fitness for a particular purpose."
      ]
    },
    {
      "cell_type": "code",
      "metadata": {
        "id": "BSjkL-sG0yLZ",
        "colab_type": "code",
        "colab": {}
      },
      "source": [
        "print(\"\\n \\n Wait for the necessary packages to install\")"
      ],
      "execution_count": 0,
      "outputs": []
    },
    {
      "cell_type": "code",
      "metadata": {
        "id": "b2HjK9dyxaHf",
        "colab_type": "code",
        "colab": {}
      },
      "source": [
        "%%capture\n",
        "!pip install summa\n",
        "!pip install TextBlob\n",
        "!pip install googlesearch"
      ],
      "execution_count": 0,
      "outputs": []
    },
    {
      "cell_type": "code",
      "metadata": {
        "id": "g_qyLwKxzKVw",
        "colab_type": "code",
        "colab": {}
      },
      "source": [
        "print(\"\\n \\n All packages installed. You can start working\")"
      ],
      "execution_count": 0,
      "outputs": []
    },
    {
      "cell_type": "code",
      "metadata": {
        "id": "JTZbNQnZxECB",
        "colab_type": "code",
        "colab": {
          "base_uri": "https://localhost:8080/",
          "height": 121,
          "referenced_widgets": [
            "53cbcd43b02b4d858abed3b766b1558b",
            "2c8e40e9b1f14ca6b0c44013b036fdcf",
            "01e81d98edda4c4fb50d3c97f37955f9"
          ]
        },
        "outputId": "76d23f5c-86cb-4801-d8df-c6a6c427f97c"
      },
      "source": [
        "\n",
        "import ipywidgets as widgets\n",
        "\n",
        "text = widgets.Textarea(\n",
        "    placeholder='Copy text from your document here',\n",
        "    description='Input text',\n",
        "    disabled=False,\n",
        "    layout={'width': '800px','height':'100px'}\n",
        ")\n",
        "text"
      ],
      "execution_count": 10,
      "outputs": [
        {
          "output_type": "display_data",
          "data": {
            "application/vnd.jupyter.widget-view+json": {
              "model_id": "53cbcd43b02b4d858abed3b766b1558b",
              "version_minor": 0,
              "version_major": 2
            },
            "text/plain": [
              "Textarea(value='', description='Input text', layout=Layout(height='100px', width='800px'), placeholder='Copy t…"
            ]
          },
          "metadata": {
            "tags": []
          }
        }
      ]
    },
    {
      "cell_type": "code",
      "metadata": {
        "id": "ugZRxODGxECd",
        "colab_type": "code",
        "colab": {
          "base_uri": "https://localhost:8080/",
          "height": 17
        },
        "outputId": "d972e909-5ca0-4851-e5ac-dde30584c686"
      },
      "source": [
        "%%javascript\n",
        "IPython.OutputArea.prototype._should_scroll = function(lines) {\n",
        "    return false;\n",
        "}"
      ],
      "execution_count": 2,
      "outputs": [
        {
          "output_type": "display_data",
          "data": {
            "application/javascript": [
              "IPython.OutputArea.prototype._should_scroll = function(lines) {\n",
              "    return false;\n",
              "}"
            ],
            "text/plain": [
              "<IPython.core.display.Javascript object>"
            ]
          },
          "metadata": {
            "tags": []
          }
        }
      ]
    },
    {
      "cell_type": "code",
      "metadata": {
        "scrolled": true,
        "id": "eVoIqWCLxECs",
        "colab_type": "code",
        "colab": {
          "base_uri": "https://localhost:8080/",
          "height": 128
        },
        "outputId": "c34cf62c-6f87-4a87-a30e-34c9779bb532"
      },
      "source": [
        "import ipywidgets as widgets\n",
        "from IPython.display import display\n",
        "import summa\n",
        "from googlesearch import search \n",
        "\n",
        "button = widgets.Button(description=\"Search\", layout={'width': '300px','height':'auto'})\n",
        "\n",
        "\n",
        "display(button)\n",
        "\n",
        "def on_button_clicked(b):\n",
        "    data1 = str(text.value)\n",
        "    data = data1.replace('\\n', '')\n",
        "\n",
        "    from summa.summarizer import summarize\n",
        "    summary = summarize(data, language='dutch', words=50)\n",
        "\n",
        "    print(\"\\nYour document summary\\n\")\n",
        "    print(summary)\n",
        "\n",
        "    from textblob import TextBlob\n",
        "    from summa import keywords\n",
        "    keywords1 = keywords.keywords(summary,words=2,language='dutch')\n",
        "\n",
        "    nl_blob = TextBlob(keywords1)\n",
        "    nl_blob.detect_language()\n",
        "\n",
        "\n",
        "    keywords2 = nl_blob.translate(to='en')\n",
        "    keywords = str(keywords2)\n",
        "\n",
        "    print(\"\\nProposed keywords\\n\")\n",
        "    print(keywords)\n",
        "    \n",
        "    \n",
        "    print(\"\\nSIFTED.COM\\n\")\n",
        "    try: \n",
        "        from googlesearch import search \n",
        "    except ImportError:  \n",
        "        print(\"No module named 'google' found\") \n",
        "\n",
        "    # to search \n",
        "    query = \"site: sifted.eu \"+keywords\n",
        "    for j in search(query, tld=\"co.in\", num=10, stop=10, pause=2,): \n",
        "        print(j)  \n",
        "        \n",
        "    print(\"\\nWIRED.COM\\n\")\n",
        "    try: \n",
        "        from googlesearch import search \n",
        "    except ImportError:  \n",
        "        print(\"No module named 'google' found\") \n",
        "\n",
        "    # to search \n",
        "    query = \"site: wired.com/ \"+keywords\n",
        "    for j in search(query, tld=\"co.in\", num=10, stop=10, pause=2,): \n",
        "        print(j) \n",
        "    \n",
        "    print(\"\\nDEALROOM.CO\\n\")\n",
        "    \n",
        "    try: \n",
        "        from googlesearch import search \n",
        "    except ImportError:  \n",
        "        print(\"No module named 'google' found\") \n",
        "\n",
        "    # to search \n",
        "    query = \"site: app.dealroom.co/companies.startups \"+keywords\n",
        "    for j in search(query, tld=\"co.in\", num=10, stop=10, pause=2,): \n",
        "        print(j) \n",
        "\n",
        "    print(\"\\nANGEL.CO\\n\")\n",
        "    \n",
        "\n",
        "    try: \n",
        "        from googlesearch import search \n",
        "    except ImportError:  \n",
        "        print(\"No module named 'google' found\") \n",
        "\n",
        "    # to search \n",
        "    query = \"site: angel.co \"+keywords\n",
        "    for j in search(query, tld=\"co.in\", num=10, stop=10, pause=2,): \n",
        "        print(j) \n",
        "\n",
        "    print(\"\\nSILICONCANALS.COM\\n\")\n",
        "    try: \n",
        "        from googlesearch import search \n",
        "    except ImportError:  \n",
        "        print(\"No module named 'google' found\") \n",
        "\n",
        "    # to search \n",
        "    query = \"site: siliconcanals.com/ \"+keywords\n",
        "    for j in search(query, tld=\"co.in\", num=10, stop=10, pause=2,): \n",
        "        print(j) \n",
        "\n",
        "    print(\"\\nSPROUT.NL\\n\")\n",
        "    try: \n",
        "        from googlesearch import search \n",
        "    except ImportError:  \n",
        "        print(\"No module named 'google' found\") \n",
        "\n",
        "    # to search \n",
        "    query = \"site: sprout.nl/ \"+keywords1\n",
        "    for j in search(query, tld=\"co.in\", num=10, stop=10, pause=2,): \n",
        "        print(j) \n",
        "\n",
        "button.on_click(on_button_clicked)"
      ],
      "execution_count": 11,
      "outputs": [
        {
          "output_type": "error",
          "ename": "IndentationError",
          "evalue": "ignored",
          "traceback": [
            "\u001b[0;36m  File \u001b[0;32m\"<ipython-input-11-4f287370c957>\"\u001b[0;36m, line \u001b[0;32m46\u001b[0m\n\u001b[0;31m    print(\"\\nWIRED.COM\\n\")\u001b[0m\n\u001b[0m                          ^\u001b[0m\n\u001b[0;31mIndentationError\u001b[0m\u001b[0;31m:\u001b[0m unindent does not match any outer indentation level\n"
          ]
        }
      ]
    }
  ]
}