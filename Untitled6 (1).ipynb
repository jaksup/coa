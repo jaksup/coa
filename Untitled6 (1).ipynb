{
  "nbformat": 4,
  "nbformat_minor": 0,
  "metadata": {
    "colab": {
      "name": "Untitled6.ipynb",
      "provenance": [],
      "collapsed_sections": []
    },
    "kernelspec": {
      "name": "python3",
      "display_name": "Python 3"
    },
    "widgets": {
      "application/vnd.jupyter.widget-state+json": {
        "a4e67321ee0e4be0941b4921b2d31111": {
          "model_module": "@jupyter-widgets/controls",
          "model_name": "GridBoxModel",
          "state": {
            "_view_name": "GridBoxView",
            "_dom_classes": [],
            "_model_name": "GridBoxModel",
            "_view_module": "@jupyter-widgets/controls",
            "_model_module_version": "1.5.0",
            "_view_count": null,
            "_view_module_version": "1.5.0",
            "box_style": "",
            "layout": "IPY_MODEL_5616d22eab6d4d849578d62ad7c1f73f",
            "_model_module": "@jupyter-widgets/controls",
            "children": [
              "IPY_MODEL_ac39880843904976ba18288290220464",
              "IPY_MODEL_d4ee008e2df64098be86fed2724ffec5",
              "IPY_MODEL_09d7322d72d5496ea35a8f0f274418b0"
            ]
          }
        },
        "5616d22eab6d4d849578d62ad7c1f73f": {
          "model_module": "@jupyter-widgets/base",
          "model_name": "LayoutModel",
          "state": {
            "_view_name": "LayoutView",
            "grid_template_rows": "1fr 3fr",
            "right": null,
            "justify_content": null,
            "_view_module": "@jupyter-widgets/base",
            "overflow": null,
            "_model_module_version": "1.2.0",
            "_view_count": null,
            "flex_flow": null,
            "width": null,
            "min_width": null,
            "border": null,
            "align_items": null,
            "bottom": null,
            "_model_module": "@jupyter-widgets/base",
            "top": null,
            "grid_column": null,
            "overflow_y": null,
            "overflow_x": null,
            "grid_auto_flow": null,
            "grid_area": null,
            "grid_template_columns": "1fr 2fr 1fr",
            "flex": null,
            "_model_name": "LayoutModel",
            "justify_items": null,
            "grid_row": null,
            "max_height": null,
            "align_content": null,
            "visibility": null,
            "align_self": null,
            "height": null,
            "min_height": null,
            "padding": null,
            "grid_auto_rows": null,
            "grid_gap": null,
            "max_width": null,
            "order": null,
            "_view_module_version": "1.2.0",
            "grid_template_areas": "\"header header header\"\n\"center center right-sidebar\"",
            "object_position": null,
            "object_fit": null,
            "grid_auto_columns": null,
            "margin": null,
            "display": null,
            "left": null
          }
        },
        "ac39880843904976ba18288290220464": {
          "model_module": "@jupyter-widgets/controls",
          "model_name": "ButtonModel",
          "state": {
            "_view_name": "ButtonView",
            "style": "IPY_MODEL_47607b276c0041d3ab07980eace3db83",
            "_dom_classes": [],
            "description": "Search based on Dutch text",
            "_model_name": "ButtonModel",
            "button_style": "success",
            "_view_module": "@jupyter-widgets/controls",
            "_model_module_version": "1.5.0",
            "tooltip": "",
            "_view_count": null,
            "disabled": false,
            "_view_module_version": "1.5.0",
            "layout": "IPY_MODEL_242345a66fe44965b3d9a7fd35c5bca2",
            "_model_module": "@jupyter-widgets/controls",
            "icon": ""
          }
        },
        "d4ee008e2df64098be86fed2724ffec5": {
          "model_module": "@jupyter-widgets/controls",
          "model_name": "ButtonModel",
          "state": {
            "_view_name": "ButtonView",
            "style": "IPY_MODEL_1afb065f8fb744249b8c1b6ca673481b",
            "_dom_classes": [],
            "description": "Generate keywords and search for startups",
            "_model_name": "ButtonModel",
            "button_style": "",
            "_view_module": "@jupyter-widgets/controls",
            "_model_module_version": "1.5.0",
            "tooltip": "",
            "_view_count": null,
            "disabled": false,
            "_view_module_version": "1.5.0",
            "layout": "IPY_MODEL_a625a8e164a84c33ad747bceb4830265",
            "_model_module": "@jupyter-widgets/controls",
            "icon": ""
          }
        },
        "09d7322d72d5496ea35a8f0f274418b0": {
          "model_module": "@jupyter-widgets/controls",
          "model_name": "TextareaModel",
          "state": {
            "_view_name": "TextareaView",
            "style": "IPY_MODEL_db59c10ffba546f2bc1a3a53b125e8b3",
            "rows": null,
            "_dom_classes": [],
            "description": "Input text",
            "_model_name": "TextareaModel",
            "placeholder": "Copy text from your document here",
            "_view_module": "@jupyter-widgets/controls",
            "_model_module_version": "1.5.0",
            "value": "",
            "_view_count": null,
            "disabled": false,
            "_view_module_version": "1.5.0",
            "continuous_update": true,
            "description_tooltip": null,
            "_model_module": "@jupyter-widgets/controls",
            "layout": "IPY_MODEL_e6ecfba052ff4a09bf50d8f280ebedba"
          }
        },
        "47607b276c0041d3ab07980eace3db83": {
          "model_module": "@jupyter-widgets/controls",
          "model_name": "ButtonStyleModel",
          "state": {
            "_view_name": "StyleView",
            "_model_name": "ButtonStyleModel",
            "_view_module": "@jupyter-widgets/base",
            "_model_module_version": "1.5.0",
            "_view_count": null,
            "button_color": null,
            "font_weight": "",
            "_view_module_version": "1.2.0",
            "_model_module": "@jupyter-widgets/controls"
          }
        },
        "242345a66fe44965b3d9a7fd35c5bca2": {
          "model_module": "@jupyter-widgets/base",
          "model_name": "LayoutModel",
          "state": {
            "_view_name": "LayoutView",
            "grid_template_rows": null,
            "right": null,
            "justify_content": null,
            "_view_module": "@jupyter-widgets/base",
            "overflow": null,
            "_model_module_version": "1.2.0",
            "_view_count": null,
            "flex_flow": null,
            "width": "auto",
            "min_width": null,
            "border": null,
            "align_items": null,
            "bottom": null,
            "_model_module": "@jupyter-widgets/base",
            "top": null,
            "grid_column": null,
            "overflow_y": null,
            "overflow_x": null,
            "grid_auto_flow": null,
            "grid_area": "header",
            "grid_template_columns": null,
            "flex": null,
            "_model_name": "LayoutModel",
            "justify_items": null,
            "grid_row": null,
            "max_height": null,
            "align_content": null,
            "visibility": null,
            "align_self": null,
            "height": "auto",
            "min_height": null,
            "padding": null,
            "grid_auto_rows": null,
            "grid_gap": null,
            "max_width": null,
            "order": null,
            "_view_module_version": "1.2.0",
            "grid_template_areas": null,
            "object_position": null,
            "object_fit": null,
            "grid_auto_columns": null,
            "margin": null,
            "display": null,
            "left": null
          }
        },
        "1afb065f8fb744249b8c1b6ca673481b": {
          "model_module": "@jupyter-widgets/controls",
          "model_name": "ButtonStyleModel",
          "state": {
            "_view_name": "StyleView",
            "_model_name": "ButtonStyleModel",
            "_view_module": "@jupyter-widgets/base",
            "_model_module_version": "1.5.0",
            "_view_count": null,
            "button_color": null,
            "font_weight": "",
            "_view_module_version": "1.2.0",
            "_model_module": "@jupyter-widgets/controls"
          }
        },
        "a625a8e164a84c33ad747bceb4830265": {
          "model_module": "@jupyter-widgets/base",
          "model_name": "LayoutModel",
          "state": {
            "_view_name": "LayoutView",
            "grid_template_rows": null,
            "right": null,
            "justify_content": null,
            "_view_module": "@jupyter-widgets/base",
            "overflow": null,
            "_model_module_version": "1.2.0",
            "_view_count": null,
            "flex_flow": null,
            "width": "300px",
            "min_width": null,
            "border": null,
            "align_items": null,
            "bottom": null,
            "_model_module": "@jupyter-widgets/base",
            "top": null,
            "grid_column": null,
            "overflow_y": null,
            "overflow_x": null,
            "grid_auto_flow": null,
            "grid_area": "right-sidebar",
            "grid_template_columns": null,
            "flex": null,
            "_model_name": "LayoutModel",
            "justify_items": null,
            "grid_row": null,
            "max_height": null,
            "align_content": null,
            "visibility": null,
            "align_self": null,
            "height": "auto",
            "min_height": null,
            "padding": null,
            "grid_auto_rows": null,
            "grid_gap": null,
            "max_width": null,
            "order": null,
            "_view_module_version": "1.2.0",
            "grid_template_areas": null,
            "object_position": null,
            "object_fit": null,
            "grid_auto_columns": null,
            "margin": null,
            "display": null,
            "left": null
          }
        },
        "db59c10ffba546f2bc1a3a53b125e8b3": {
          "model_module": "@jupyter-widgets/controls",
          "model_name": "DescriptionStyleModel",
          "state": {
            "_view_name": "StyleView",
            "_model_name": "DescriptionStyleModel",
            "description_width": "",
            "_view_module": "@jupyter-widgets/base",
            "_model_module_version": "1.5.0",
            "_view_count": null,
            "_view_module_version": "1.2.0",
            "_model_module": "@jupyter-widgets/controls"
          }
        },
        "e6ecfba052ff4a09bf50d8f280ebedba": {
          "model_module": "@jupyter-widgets/base",
          "model_name": "LayoutModel",
          "state": {
            "_view_name": "LayoutView",
            "grid_template_rows": null,
            "right": null,
            "justify_content": null,
            "_view_module": "@jupyter-widgets/base",
            "overflow": null,
            "_model_module_version": "1.2.0",
            "_view_count": null,
            "flex_flow": null,
            "width": "auto",
            "min_width": null,
            "border": null,
            "align_items": null,
            "bottom": null,
            "_model_module": "@jupyter-widgets/base",
            "top": null,
            "grid_column": null,
            "overflow_y": null,
            "overflow_x": null,
            "grid_auto_flow": null,
            "grid_area": "center",
            "grid_template_columns": null,
            "flex": null,
            "_model_name": "LayoutModel",
            "justify_items": null,
            "grid_row": null,
            "max_height": null,
            "align_content": null,
            "visibility": null,
            "align_self": null,
            "height": "auto",
            "min_height": null,
            "padding": null,
            "grid_auto_rows": null,
            "grid_gap": null,
            "max_width": null,
            "order": null,
            "_view_module_version": "1.2.0",
            "grid_template_areas": null,
            "object_position": null,
            "object_fit": null,
            "grid_auto_columns": null,
            "margin": null,
            "display": null,
            "left": null
          }
        },
        "5a55ffdc47f7443ca12b0d3537141b9d": {
          "model_module": "@jupyter-widgets/controls",
          "model_name": "GridBoxModel",
          "state": {
            "_view_name": "GridBoxView",
            "_dom_classes": [],
            "_model_name": "GridBoxModel",
            "_view_module": "@jupyter-widgets/controls",
            "_model_module_version": "1.5.0",
            "_view_count": null,
            "_view_module_version": "1.5.0",
            "box_style": "",
            "layout": "IPY_MODEL_78936cea8ce14016b7edb3d9103dc646",
            "_model_module": "@jupyter-widgets/controls",
            "children": [
              "IPY_MODEL_f7df3420a9fd465da60afc12f36355da",
              "IPY_MODEL_d48d68f7e1384974822857746487248c",
              "IPY_MODEL_389319db42644815af6c17caea3bba8d"
            ]
          }
        },
        "78936cea8ce14016b7edb3d9103dc646": {
          "model_module": "@jupyter-widgets/base",
          "model_name": "LayoutModel",
          "state": {
            "_view_name": "LayoutView",
            "grid_template_rows": "1fr 3fr",
            "right": null,
            "justify_content": null,
            "_view_module": "@jupyter-widgets/base",
            "overflow": null,
            "_model_module_version": "1.2.0",
            "_view_count": null,
            "flex_flow": null,
            "width": null,
            "min_width": null,
            "border": null,
            "align_items": null,
            "bottom": null,
            "_model_module": "@jupyter-widgets/base",
            "top": null,
            "grid_column": null,
            "overflow_y": null,
            "overflow_x": null,
            "grid_auto_flow": null,
            "grid_area": null,
            "grid_template_columns": "1fr 2fr 1fr",
            "flex": null,
            "_model_name": "LayoutModel",
            "justify_items": null,
            "grid_row": null,
            "max_height": null,
            "align_content": null,
            "visibility": null,
            "align_self": null,
            "height": null,
            "min_height": null,
            "padding": null,
            "grid_auto_rows": null,
            "grid_gap": null,
            "max_width": null,
            "order": null,
            "_view_module_version": "1.2.0",
            "grid_template_areas": "\"header header header\"\n\"center center right-sidebar\"",
            "object_position": null,
            "object_fit": null,
            "grid_auto_columns": null,
            "margin": null,
            "display": null,
            "left": null
          }
        },
        "f7df3420a9fd465da60afc12f36355da": {
          "model_module": "@jupyter-widgets/controls",
          "model_name": "ButtonModel",
          "state": {
            "_view_name": "ButtonView",
            "style": "IPY_MODEL_5fc5bd975ae84b299936e7349a087385",
            "_dom_classes": [],
            "description": "Search based on your keywords",
            "_model_name": "ButtonModel",
            "button_style": "success",
            "_view_module": "@jupyter-widgets/controls",
            "_model_module_version": "1.5.0",
            "tooltip": "",
            "_view_count": null,
            "disabled": false,
            "_view_module_version": "1.5.0",
            "layout": "IPY_MODEL_5572a8db0ca6481e8083534a0f96f1e3",
            "_model_module": "@jupyter-widgets/controls",
            "icon": ""
          }
        },
        "d48d68f7e1384974822857746487248c": {
          "model_module": "@jupyter-widgets/controls",
          "model_name": "ButtonModel",
          "state": {
            "_view_name": "ButtonView",
            "style": "IPY_MODEL_b35e5837c66945c59a8ca930d7bf2a64",
            "_dom_classes": [],
            "description": "Search for startups",
            "_model_name": "ButtonModel",
            "button_style": "",
            "_view_module": "@jupyter-widgets/controls",
            "_model_module_version": "1.5.0",
            "tooltip": "",
            "_view_count": null,
            "disabled": false,
            "_view_module_version": "1.5.0",
            "layout": "IPY_MODEL_c451556dd9fd454d8d3cfbc89bd70e8f",
            "_model_module": "@jupyter-widgets/controls",
            "icon": ""
          }
        },
        "389319db42644815af6c17caea3bba8d": {
          "model_module": "@jupyter-widgets/controls",
          "model_name": "TextareaModel",
          "state": {
            "_view_name": "TextareaView",
            "style": "IPY_MODEL_88c1a0bb63dc4c299080c8f82d19b8a0",
            "rows": null,
            "_dom_classes": [],
            "description": "3 keywords",
            "_model_name": "TextareaModel",
            "placeholder": "Put your keywords in English here",
            "_view_module": "@jupyter-widgets/controls",
            "_model_module_version": "1.5.0",
            "value": "",
            "_view_count": null,
            "disabled": false,
            "_view_module_version": "1.5.0",
            "continuous_update": true,
            "description_tooltip": null,
            "_model_module": "@jupyter-widgets/controls",
            "layout": "IPY_MODEL_e44ed6fe179a4b27a6a9082d83536beb"
          }
        },
        "5fc5bd975ae84b299936e7349a087385": {
          "model_module": "@jupyter-widgets/controls",
          "model_name": "ButtonStyleModel",
          "state": {
            "_view_name": "StyleView",
            "_model_name": "ButtonStyleModel",
            "_view_module": "@jupyter-widgets/base",
            "_model_module_version": "1.5.0",
            "_view_count": null,
            "button_color": null,
            "font_weight": "",
            "_view_module_version": "1.2.0",
            "_model_module": "@jupyter-widgets/controls"
          }
        },
        "5572a8db0ca6481e8083534a0f96f1e3": {
          "model_module": "@jupyter-widgets/base",
          "model_name": "LayoutModel",
          "state": {
            "_view_name": "LayoutView",
            "grid_template_rows": null,
            "right": null,
            "justify_content": null,
            "_view_module": "@jupyter-widgets/base",
            "overflow": null,
            "_model_module_version": "1.2.0",
            "_view_count": null,
            "flex_flow": null,
            "width": "auto",
            "min_width": null,
            "border": null,
            "align_items": null,
            "bottom": null,
            "_model_module": "@jupyter-widgets/base",
            "top": null,
            "grid_column": null,
            "overflow_y": null,
            "overflow_x": null,
            "grid_auto_flow": null,
            "grid_area": "header",
            "grid_template_columns": null,
            "flex": null,
            "_model_name": "LayoutModel",
            "justify_items": null,
            "grid_row": null,
            "max_height": null,
            "align_content": null,
            "visibility": null,
            "align_self": null,
            "height": "auto",
            "min_height": null,
            "padding": null,
            "grid_auto_rows": null,
            "grid_gap": null,
            "max_width": null,
            "order": null,
            "_view_module_version": "1.2.0",
            "grid_template_areas": null,
            "object_position": null,
            "object_fit": null,
            "grid_auto_columns": null,
            "margin": null,
            "display": null,
            "left": null
          }
        },
        "b35e5837c66945c59a8ca930d7bf2a64": {
          "model_module": "@jupyter-widgets/controls",
          "model_name": "ButtonStyleModel",
          "state": {
            "_view_name": "StyleView",
            "_model_name": "ButtonStyleModel",
            "_view_module": "@jupyter-widgets/base",
            "_model_module_version": "1.5.0",
            "_view_count": null,
            "button_color": null,
            "font_weight": "",
            "_view_module_version": "1.2.0",
            "_model_module": "@jupyter-widgets/controls"
          }
        },
        "c451556dd9fd454d8d3cfbc89bd70e8f": {
          "model_module": "@jupyter-widgets/base",
          "model_name": "LayoutModel",
          "state": {
            "_view_name": "LayoutView",
            "grid_template_rows": null,
            "right": null,
            "justify_content": null,
            "_view_module": "@jupyter-widgets/base",
            "overflow": null,
            "_model_module_version": "1.2.0",
            "_view_count": null,
            "flex_flow": null,
            "width": "300px",
            "min_width": null,
            "border": null,
            "align_items": null,
            "bottom": null,
            "_model_module": "@jupyter-widgets/base",
            "top": null,
            "grid_column": null,
            "overflow_y": null,
            "overflow_x": null,
            "grid_auto_flow": null,
            "grid_area": "right-sidebar",
            "grid_template_columns": null,
            "flex": null,
            "_model_name": "LayoutModel",
            "justify_items": null,
            "grid_row": null,
            "max_height": null,
            "align_content": null,
            "visibility": null,
            "align_self": null,
            "height": "auto",
            "min_height": null,
            "padding": null,
            "grid_auto_rows": null,
            "grid_gap": null,
            "max_width": null,
            "order": null,
            "_view_module_version": "1.2.0",
            "grid_template_areas": null,
            "object_position": null,
            "object_fit": null,
            "grid_auto_columns": null,
            "margin": null,
            "display": null,
            "left": null
          }
        },
        "88c1a0bb63dc4c299080c8f82d19b8a0": {
          "model_module": "@jupyter-widgets/controls",
          "model_name": "DescriptionStyleModel",
          "state": {
            "_view_name": "StyleView",
            "_model_name": "DescriptionStyleModel",
            "description_width": "",
            "_view_module": "@jupyter-widgets/base",
            "_model_module_version": "1.5.0",
            "_view_count": null,
            "_view_module_version": "1.2.0",
            "_model_module": "@jupyter-widgets/controls"
          }
        },
        "e44ed6fe179a4b27a6a9082d83536beb": {
          "model_module": "@jupyter-widgets/base",
          "model_name": "LayoutModel",
          "state": {
            "_view_name": "LayoutView",
            "grid_template_rows": null,
            "right": null,
            "justify_content": null,
            "_view_module": "@jupyter-widgets/base",
            "overflow": null,
            "_model_module_version": "1.2.0",
            "_view_count": null,
            "flex_flow": null,
            "width": "auto",
            "min_width": null,
            "border": null,
            "align_items": null,
            "bottom": null,
            "_model_module": "@jupyter-widgets/base",
            "top": null,
            "grid_column": null,
            "overflow_y": null,
            "overflow_x": null,
            "grid_auto_flow": null,
            "grid_area": "center",
            "grid_template_columns": null,
            "flex": null,
            "_model_name": "LayoutModel",
            "justify_items": null,
            "grid_row": null,
            "max_height": null,
            "align_content": null,
            "visibility": null,
            "align_self": null,
            "height": "auto",
            "min_height": null,
            "padding": null,
            "grid_auto_rows": null,
            "grid_gap": null,
            "max_width": null,
            "order": null,
            "_view_module_version": "1.2.0",
            "grid_template_areas": null,
            "object_position": null,
            "object_fit": null,
            "grid_auto_columns": null,
            "margin": null,
            "display": null,
            "left": null
          }
        }
      }
    }
  },
  "cells": [
    {
      "cell_type": "markdown",
      "metadata": {
        "id": "a6_HImEqQGAJ",
        "colab_type": "text"
      },
      "source": [
        "# Market Research Tool \n",
        "Except as represented in this agreement, all work product by Developer is provided ​“AS IS”. Other than as provided in this agreement, Developer makes no other warranties, express or implied, and hereby disclaims all implied warranties, including any warranty of merchantability and warranty of fitness for a particular purpose.\n",
        "\n",
        "#### Search API limits amount of queries in one session that's why you might experience errors."
      ]
    },
    {
      "cell_type": "code",
      "metadata": {
        "id": "n1bdsjMxkMEt",
        "colab_type": "code",
        "colab": {}
      },
      "source": [
        "%%capture\n",
        "pip install google-search"
      ],
      "execution_count": 0,
      "outputs": []
    },
    {
      "cell_type": "code",
      "metadata": {
        "id": "fzZ6O6t0klBw",
        "colab_type": "code",
        "colab": {}
      },
      "source": [
        "%%capture\n",
        "pip install summa"
      ],
      "execution_count": 0,
      "outputs": []
    },
    {
      "cell_type": "code",
      "metadata": {
        "id": "2-PlB5hJPl9D",
        "colab_type": "code",
        "colab": {}
      },
      "source": [
        "from ipywidgets import AppLayout, Button, Layout\n",
        "def create_expanded_button(description, button_style):\n",
        "    return Button(description=description, button_style=button_style, layout=Layout(height='auto', width='auto'))"
      ],
      "execution_count": 0,
      "outputs": []
    },
    {
      "cell_type": "code",
      "metadata": {
        "id": "pqJpxZXMPpKt",
        "colab_type": "code",
        "outputId": "5c5f33ce-1821-4faa-8bf1-08216cd25194",
        "colab": {
          "base_uri": "https://localhost:8080/",
          "height": 17
        }
      },
      "source": [
        "%%javascript\n",
        "IPython.OutputArea.prototype._should_scroll = function(lines) {\n",
        "    return false;\n",
        "}"
      ],
      "execution_count": 0,
      "outputs": [
        {
          "output_type": "display_data",
          "data": {
            "application/javascript": [
              "IPython.OutputArea.prototype._should_scroll = function(lines) {\n",
              "    return false;\n",
              "}"
            ],
            "text/plain": [
              "<IPython.core.display.Javascript object>"
            ]
          },
          "metadata": {
            "tags": []
          }
        }
      ]
    },
    {
      "cell_type": "code",
      "metadata": {
        "id": "D6Z31IfxPsnx",
        "colab_type": "code",
        "colab": {}
      },
      "source": [
        "header_button1 = create_expanded_button('Search based on Dutch text', 'success')\n",
        "header_button2 = create_expanded_button('Search based on your keywords', 'success')"
      ],
      "execution_count": 0,
      "outputs": []
    },
    {
      "cell_type": "code",
      "metadata": {
        "id": "UU6S8QasPtLL",
        "colab_type": "code",
        "colab": {}
      },
      "source": [
        "import ipywidgets as widgets\n",
        "from IPython.display import display\n",
        "\n",
        "text = widgets.Textarea(\n",
        "    placeholder='Copy text from your document here',\n",
        "    description='Input text',\n",
        "    disabled=False,\n",
        "    layout={'width': 'auto','height':'auto'}\n",
        ")\n",
        "\n",
        "button = widgets.Button(description=\"Generate keywords and search for startups\", layout={'width': '300px','height':'auto'})\n",
        "\n",
        "\n",
        "def on_button_clicked(b):\n",
        "    data1 = str(text.value)\n",
        "    data = data1.replace('\\n', '')\n",
        "\n",
        "    from summa.summarizer import summarize\n",
        "    summary = summarize(data, language='english', words=20)\n",
        "\n",
        "    print(\"\\nYour document summary\\n\")\n",
        "    print(summary)\n",
        "\n",
        "    from textblob import TextBlob\n",
        "    from summa import keywords\n",
        "    keywords1 = keywords.keywords(data,words=2,language='english')\n",
        "\n",
        "    nl_blob = TextBlob(keywords1)\n",
        "    nl_blob.detect_language()\n",
        "\n",
        "\n",
        "    keywords2 = nl_blob.translate(to='en')\n",
        "    keywords = str(keywords2)\n",
        "\n",
        "    print(\"\\nProposed keywords\\n\")\n",
        "    print(keywords)\n",
        "    \n",
        "    print(\"\\nANGEL.CO\\n\")\n",
        "    \n",
        "\n",
        "    try: \n",
        "        from googlesearch import search \n",
        "    except ImportError:  \n",
        "        print(\"No module named 'google' found\") \n",
        "\n",
        "    # to search \n",
        "    query = \"site: angel.co \"+keywords\n",
        "    for j in search(query, tld=\"co.in\", num=10, stop=10, pause=2,): \n",
        "        print(j) \n",
        "button.on_click(on_button_clicked)\n",
        "\n",
        "\n",
        "text1 = widgets.Textarea(\n",
        "    placeholder='Put your keywords in English here',\n",
        "    description='3 keywords',\n",
        "    disabled=False,\n",
        "    layout={'width': 'auto','height':'auto'}\n",
        ")\n",
        "\n",
        "button1 = widgets.Button(description=\"Search for startups\", layout={'width': '300px','height':'auto'})   \n",
        "\n",
        "\n",
        "def on_button_clicked1(b):\n",
        "\n",
        "\n",
        "    print(\"\\nANGEL.CO\\n\")\n",
        "    \n",
        "\n",
        "    try: \n",
        "        from googlesearch import search \n",
        "    except ImportError:  \n",
        "        print(\"No module named 'google' found\") \n",
        "\n",
        "    # to search \n",
        "    query = \"site: angel.co \"+str(text1.value)\n",
        "    for j in search(query, tld=\"co.in\", num=10, stop=10, pause=2,): \n",
        "        print(j) \n",
        "        \n",
        "\n",
        "button1.on_click(on_button_clicked1)"
      ],
      "execution_count": 0,
      "outputs": []
    },
    {
      "cell_type": "code",
      "metadata": {
        "id": "9xa-dyFuPvBP",
        "colab_type": "code",
        "outputId": "a6780b33-4e8f-4ea8-c230-85f027a09b64",
        "colab": {
          "base_uri": "https://localhost:8080/",
          "height": 145,
          "referenced_widgets": [
            "a4e67321ee0e4be0941b4921b2d31111",
            "5616d22eab6d4d849578d62ad7c1f73f",
            "ac39880843904976ba18288290220464",
            "d4ee008e2df64098be86fed2724ffec5",
            "09d7322d72d5496ea35a8f0f274418b0",
            "47607b276c0041d3ab07980eace3db83",
            "242345a66fe44965b3d9a7fd35c5bca2",
            "1afb065f8fb744249b8c1b6ca673481b",
            "a625a8e164a84c33ad747bceb4830265",
            "db59c10ffba546f2bc1a3a53b125e8b3",
            "e6ecfba052ff4a09bf50d8f280ebedba"
          ]
        }
      },
      "source": [
        "AppLayout(header=header_button1,\n",
        "          center=text,\n",
        "          right_sidebar=button)"
      ],
      "execution_count": 0,
      "outputs": [
        {
          "output_type": "display_data",
          "data": {
            "application/vnd.jupyter.widget-view+json": {
              "model_id": "a4e67321ee0e4be0941b4921b2d31111",
              "version_minor": 0,
              "version_major": 2
            },
            "text/plain": [
              "AppLayout(children=(Button(button_style='success', description='Search based on Dutch text', layout=Layout(gri…"
            ]
          },
          "metadata": {
            "tags": []
          }
        }
      ]
    },
    {
      "cell_type": "code",
      "metadata": {
        "id": "k5t8_8UrPxeS",
        "colab_type": "code",
        "outputId": "d5ec81cb-7c8b-4b32-ef66-7033373b38af",
        "colab": {
          "base_uri": "https://localhost:8080/",
          "height": 145,
          "referenced_widgets": [
            "5a55ffdc47f7443ca12b0d3537141b9d",
            "78936cea8ce14016b7edb3d9103dc646",
            "f7df3420a9fd465da60afc12f36355da",
            "d48d68f7e1384974822857746487248c",
            "389319db42644815af6c17caea3bba8d",
            "5fc5bd975ae84b299936e7349a087385",
            "5572a8db0ca6481e8083534a0f96f1e3",
            "b35e5837c66945c59a8ca930d7bf2a64",
            "c451556dd9fd454d8d3cfbc89bd70e8f",
            "88c1a0bb63dc4c299080c8f82d19b8a0",
            "e44ed6fe179a4b27a6a9082d83536beb"
          ]
        }
      },
      "source": [
        "AppLayout(header=header_button2,\n",
        "          center=text1,\n",
        "          right_sidebar=button1)"
      ],
      "execution_count": 0,
      "outputs": [
        {
          "output_type": "display_data",
          "data": {
            "application/vnd.jupyter.widget-view+json": {
              "model_id": "5a55ffdc47f7443ca12b0d3537141b9d",
              "version_minor": 0,
              "version_major": 2
            },
            "text/plain": [
              "AppLayout(children=(Button(button_style='success', description='Search based on your keywords', layout=Layout(…"
            ]
          },
          "metadata": {
            "tags": []
          }
        }
      ]
    }
  ]
}