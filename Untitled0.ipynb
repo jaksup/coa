{
  "nbformat": 4,
  "nbformat_minor": 0,
  "metadata": {
    "colab": {
      "name": "Untitled0.ipynb",
      "provenance": [],
      "authorship_tag": "ABX9TyP76BmjXgk6yGi2lRS3FckD",
      "include_colab_link": true
    },
    "kernelspec": {
      "name": "python3",
      "display_name": "Python 3"
    }
  },
  "cells": [
    {
      "cell_type": "markdown",
      "metadata": {
        "id": "view-in-github",
        "colab_type": "text"
      },
      "source": [
        "<a href=\"https://colab.research.google.com/github/jaksup/coa/blob/master/Untitled0.ipynb\" target=\"_parent\"><img src=\"https://colab.research.google.com/assets/colab-badge.svg\" alt=\"Open In Colab\"/></a>"
      ]
    },
    {
      "cell_type": "code",
      "metadata": {
        "id": "ZAKo1broaSaD",
        "colab_type": "code",
        "colab": {}
      },
      "source": [
        "import jupyterlab_dash\n",
        "from jupyterlab_dash import AppViewer\n",
        "import dash\n",
        "import dash_html_components as html\n",
        "\n",
        "viewer = AppViewer()\n",
        "\n",
        "\n",
        "app = JupyterDash('SimpleExample')\n",
        "\n",
        "app.layout = html.Div([\n",
        "    dcc.RadioItems(\n",
        "        id='dropdown-color',\n",
        "        options=[{'label': c, 'value': c.lower()}\n",
        "                 for c in ['Red', 'Green', 'Blue']],\n",
        "        value='red'\n",
        "    ),\n",
        "    html.Div(id='output-color'),\n",
        "    dcc.RadioItems(\n",
        "        id='dropdown-size',\n",
        "        options=[{'label': i, 'value': j}\n",
        "                 for i, j in [('L','large'), ('M','medium'), ('S','small')]],\n",
        "        value='medium'\n",
        "    ),\n",
        "    html.Div(id='output-size')\n",
        "\n",
        "])\n",
        "\n",
        "@app.callback(\n",
        "    dash.dependencies.Output('output-color', 'children'),\n",
        "    [dash.dependencies.Input('dropdown-color', 'value')])\n",
        "def callback_color(dropdown_value):\n",
        "    return \"The selected color is %s.\" % dropdown_value\n",
        "\n",
        "@app.callback(\n",
        "    dash.dependencies.Output('output-size', 'children'),\n",
        "    [dash.dependencies.Input('dropdown-color', 'value'),\n",
        "     dash.dependencies.Input('dropdown-size', 'value')])\n",
        "def callback_size(dropdown_color, dropdown_size):\n",
        "    return \"The chosen T-shirt is a %s %s one.\" %(dropdown_size,\n",
        "                                                  dropdown_color)\n",
        "    \n",
        "app"
      ],
      "execution_count": 0,
      "outputs": []
    }
  ]
}