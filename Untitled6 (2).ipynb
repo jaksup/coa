{
  "nbformat": 4,
  "nbformat_minor": 0,
  "metadata": {
    "colab": {
      "name": "Untitled6.ipynb",
      "provenance": [],
      "collapsed_sections": []
    },
    "kernelspec": {
      "name": "python3",
      "display_name": "Python 3"
    },
    "widgets": {
      "application/vnd.jupyter.widget-state+json": {
        "d4782682b351492bb3b74f52000e3a1e": {
          "model_module": "@jupyter-widgets/controls",
          "model_name": "GridBoxModel",
          "state": {
            "_view_name": "GridBoxView",
            "_dom_classes": [],
            "_model_name": "GridBoxModel",
            "_view_module": "@jupyter-widgets/controls",
            "_model_module_version": "1.5.0",
            "_view_count": null,
            "_view_module_version": "1.5.0",
            "box_style": "",
            "layout": "IPY_MODEL_7399290f3b594ef297587b75fcbe21b2",
            "_model_module": "@jupyter-widgets/controls",
            "children": [
              "IPY_MODEL_ac39880843904976ba18288290220464",
              "IPY_MODEL_694c8ffcb74c4632ad419d3aba6c9f85",
              "IPY_MODEL_40095baff2da4201bf0cc0f2ac47d74c"
            ]
          }
        },
        "7399290f3b594ef297587b75fcbe21b2": {
          "model_module": "@jupyter-widgets/base",
          "model_name": "LayoutModel",
          "state": {
            "_view_name": "LayoutView",
            "grid_template_rows": "1fr 3fr",
            "right": null,
            "justify_content": null,
            "_view_module": "@jupyter-widgets/base",
            "overflow": null,
            "_model_module_version": "1.2.0",
            "_view_count": null,
            "flex_flow": null,
            "width": null,
            "min_width": null,
            "border": null,
            "align_items": null,
            "bottom": null,
            "_model_module": "@jupyter-widgets/base",
            "top": null,
            "grid_column": null,
            "overflow_y": null,
            "overflow_x": null,
            "grid_auto_flow": null,
            "grid_area": null,
            "grid_template_columns": "1fr 2fr 1fr",
            "flex": null,
            "_model_name": "LayoutModel",
            "justify_items": null,
            "grid_row": null,
            "max_height": null,
            "align_content": null,
            "visibility": null,
            "align_self": null,
            "height": null,
            "min_height": null,
            "padding": null,
            "grid_auto_rows": null,
            "grid_gap": null,
            "max_width": null,
            "order": null,
            "_view_module_version": "1.2.0",
            "grid_template_areas": "\"header header header\"\n\"center center right-sidebar\"",
            "object_position": null,
            "object_fit": null,
            "grid_auto_columns": null,
            "margin": null,
            "display": null,
            "left": null
          }
        },
        "ac39880843904976ba18288290220464": {
          "model_module": "@jupyter-widgets/controls",
          "model_name": "ButtonModel",
          "state": {
            "_view_name": "ButtonView",
            "style": "IPY_MODEL_47607b276c0041d3ab07980eace3db83",
            "_dom_classes": [],
            "description": "Search based on Dutch text",
            "_model_name": "ButtonModel",
            "button_style": "success",
            "_view_module": "@jupyter-widgets/controls",
            "_model_module_version": "1.5.0",
            "tooltip": "",
            "_view_count": null,
            "disabled": false,
            "_view_module_version": "1.5.0",
            "layout": "IPY_MODEL_242345a66fe44965b3d9a7fd35c5bca2",
            "_model_module": "@jupyter-widgets/controls",
            "icon": ""
          }
        },
        "694c8ffcb74c4632ad419d3aba6c9f85": {
          "model_module": "@jupyter-widgets/controls",
          "model_name": "ButtonModel",
          "state": {
            "_view_name": "ButtonView",
            "style": "IPY_MODEL_e4f435d284a046aea2145f39e6035d7a",
            "_dom_classes": [],
            "description": "Generate keywords and search for startups",
            "_model_name": "ButtonModel",
            "button_style": "",
            "_view_module": "@jupyter-widgets/controls",
            "_model_module_version": "1.5.0",
            "tooltip": "",
            "_view_count": null,
            "disabled": false,
            "_view_module_version": "1.5.0",
            "layout": "IPY_MODEL_a85600b503be4ffeae7dfdae2da1ac6e",
            "_model_module": "@jupyter-widgets/controls",
            "icon": ""
          }
        },
        "40095baff2da4201bf0cc0f2ac47d74c": {
          "model_module": "@jupyter-widgets/controls",
          "model_name": "TextareaModel",
          "state": {
            "_view_name": "TextareaView",
            "style": "IPY_MODEL_30182ea0ac774b498ef3078dff21df1d",
            "rows": null,
            "_dom_classes": [],
            "description": "Input text",
            "_model_name": "TextareaModel",
            "placeholder": "Copy text from your document here",
            "_view_module": "@jupyter-widgets/controls",
            "_model_module_version": "1.5.0",
            "value": "k ga mezelf verwennen met een goede auto. Dat dacht Uber-chauffeur Ismael Abdallah (23) afgelopen winter toen hij zijn keuze liet vallen op een gloednieuwe BMW 5 serie. Wist hij veel dat er een pandemie aankwam waardoor al zijn passagiers zouden thuisblijven. Nu zit hij met ‘hoofdpijn, veel hoofdpijn’. Want zijn torenhoge lease- en verzekeringskosten lopen door, maar die BMW staat stilletjes mooi te wezen op de parkeerplaats.\n\nDe duim van fietskoerier Liam Brosnan (37) staat ondertussen juist allesbehalve stil. Telefoon ontgrendelen, verversen, weer niets. Is hij wel online? Terwijl heel Nederland lijkt te leven van afhaalmaaltijden, heeft hij juist minder werk. De verklaring denkt hij te zien in al die nieuwe concullega’s op straat. Vrouwen van middelbare leeftijd, hippe blonde meisjes: ze hebben ineens allemaal precies dezelfde koeltas als hij op hun rug.\n\nAbdallah en Brosnan maken deel uit van de snelgroeiende ‘kluseconomie’. Ze werken als zzp’ers via platforms die aanbod en vraag samenbrengen met algoritmen. De betaling gaat per geleverde dienst en de prijs die ze ervoor krijgen volgt de klassieke wetten van de economie. Bij schaarste −  veel vraag, weinig aanbod − schiet die omhoog. Als het aanbod juist de vraag overstijgt, kunnen ze acuut zonder werk komen te zitten.\n\nDie werk- en inkomensonzekerheid was in economisch voorspoedige tijden al reden tot zorg en lijkt helemaal problematisch nu de coronacrisis de dienstensector hard heeft geraakt. De ritten van Uber liepen wereldwijd met 80 procent terug. Schoonmaakdienst Helpling zag de klussen aan het begin van de crisis halveren. De horecatak van Temper is ook ‘flink geraakt’. Bij Deliveroo nam het aantal bestellingen weliswaar toe, maar niet zo snel als het aantal nieuwe bezorgers. Daarom is er inmiddels een wachtlijst. \n\nRisico’s\nDe gevolgen zijn voor de platformwerkers. Geen werk betekent voor hen vaak geen inkomen. ‘De coronacrisis maakt de problemen zichtbaar waarvan we eigenlijk al wisten dat ze bestonden’, zegt econoom Bas ter Weel. In opdracht van het ministerie van Sociale Zaken en Werkgelegenheid leidde hij een onderzoek naar de kluseconomie en berekende hij dat Nederland zo’n 34 duizend platformwerkers telt. Ze werken gemiddeld twintig uur in de week en verdienen 787 euro per maand. 25 procent verdient onder het minimumloon.\n\nHun positie is kwetsbaar. Het werk dat ze doen is eenvoudig, dus zullen ze er nooit veel geld mee verdienen, stelt Ter Weel. Ze dragen bovendien geen werkloosheidspremies af en zijn daarom niet verzekerd tegen werkloosheid. Buffers hebben ze vaak nauwelijks. Op het moment dat hun werk wegvalt, zijn ze dus aangewezen op de bijstand.\n\nUit een enquête die vakbond FNV deed onder tweehonderd zelfstandige taxichauffeurs, blijkt dat bijna driekwart tijdens de coronacrisis is gestopt met rijden. 71 procent verwacht binnen een jaar helemaal te stoppen als chauffeur, onder platformchauffeurs ligt dat percentage op 76 procent. Bijna 84 procent van de platformchauffeurs deed bovendien een beroep op inkomensondersteuning (Tozo) en 69 procent op de eenmalige gift van 4.000 euro (TOGS).\n\nZo ook Abdallah. De eerste drie dagen van de crisis werkte hij, ondanks zijn astma, nog een paar dagen door. Maar hij verdiende precies nul euro. Hij krijgt nu 1.050 euro per maand, daarmee kan hij net zijn leasecontract en autoverzekering voldoen. Maar dan moet hij nog eten. ‘Het is elke keer kijken: welke rekening betaal ik? De ene keer de gezondheidsverzekering, dan de lease. Met de huur loop ik nu twee maanden achter.’\n\nSchijnzelfstandigen\nPlatformwerkers zijn beslist niet de enige zelfstandigen die tijdens de coronacrisis aankloppen voor overheidssteun. Van de 1,1 miljoen zzp’ers in Nederland, deed eenderde een aanvraag voor inkomensondersteuning. \n\nMaar er is wel een belangrijk verschil tussen zelfstandig ondernemers en werkers binnen de kluseconomie, stelt hoogleraar arbeidsrecht Evert Verhulp: bij de platformwerkers staat namelijk al jaren ter discussie óf zij wel zzp’ers zijn. ‘Ze bepalen niet hun eigen prijzen en voorwaarden, en werven niet hun eigen klanten, dat wordt allemaal gedaan door een algoritme’, stelt Verhulp. ‘Dat is geen ondernemerschap.’ De platformen vangen bovendien een gage op de geleverde diensten.\n\nDe hoogleraar krijgt bijval van verschillende rechters en gerechtshoven. Zo oordeelde de Franse rechter in maart dat zelfstandigen die voor Uber rijden gewoon werknemers zijn. Dezelfde mening was de Amsterdamse rechtbank vorig jaar toegedaan over de fietskoeriers van Deliveroo. Het hoger beroep dat het platform daartegen aantekende, werd vanwege de coronacrisis uitgesteld.\n\nDergelijke uitspraken roepen ook de vraag op of de platformwerkers bij inkomensverlies een beroep zouden moeten doen op gemeenschapsgeld of eerst zouden moeten aankloppen bij het platform waarvoor zij werken. Volgens Verhulp zouden ze een goede kans maken, maar Abdallah heeft zo’n vermoeden wat de reactie van Uber zal zijn. ‘Ze komen altijd met smoesjes: we zijn niet de werkgever, alleen de tussenpersoon. Je boeit ze geen ene moer.’\n\nCruciaal\nIn januari ondernam een commissie onder leiding van oud-topambtenaar Hans Borstlap een poging om de problemen rondom schijnzelfstandigheid aan te pakken. In een duimendik rapport adviseerde ze de fiscale voordelen van zelfstandigen te beperken. Ondernemers die niet zelf hun prijzen bepalen en onderdeel uitmaken van een andere organisatie (zoals Uber) zouden weer gewoon onder de noemer werknemer moeten gaan vallen.\n\nHet is natuurlijk maar de vraag of dat rapport met de op handen zijnde recessie niet in een diepe la verdwijnt. Ter Weel, die samen met Verhulp zitting had in de commissie, is hoopvol gestemd. ‘Tijdens de vorige recessie hebben we de AOW-leeftijd kunnen verhogen, dus het is wel vaker zo dat we er zomaar uitkomen als de nood aan de man is.’",
            "_view_count": null,
            "disabled": false,
            "_view_module_version": "1.5.0",
            "continuous_update": true,
            "description_tooltip": null,
            "_model_module": "@jupyter-widgets/controls",
            "layout": "IPY_MODEL_be90f26fe66f414e99c42f9da7aeb701"
          }
        },
        "47607b276c0041d3ab07980eace3db83": {
          "model_module": "@jupyter-widgets/controls",
          "model_name": "ButtonStyleModel",
          "state": {
            "_view_name": "StyleView",
            "_model_name": "ButtonStyleModel",
            "_view_module": "@jupyter-widgets/base",
            "_model_module_version": "1.5.0",
            "_view_count": null,
            "button_color": null,
            "font_weight": "",
            "_view_module_version": "1.2.0",
            "_model_module": "@jupyter-widgets/controls"
          }
        },
        "242345a66fe44965b3d9a7fd35c5bca2": {
          "model_module": "@jupyter-widgets/base",
          "model_name": "LayoutModel",
          "state": {
            "_view_name": "LayoutView",
            "grid_template_rows": null,
            "right": null,
            "justify_content": null,
            "_view_module": "@jupyter-widgets/base",
            "overflow": null,
            "_model_module_version": "1.2.0",
            "_view_count": null,
            "flex_flow": null,
            "width": "auto",
            "min_width": null,
            "border": null,
            "align_items": null,
            "bottom": null,
            "_model_module": "@jupyter-widgets/base",
            "top": null,
            "grid_column": null,
            "overflow_y": null,
            "overflow_x": null,
            "grid_auto_flow": null,
            "grid_area": "header",
            "grid_template_columns": null,
            "flex": null,
            "_model_name": "LayoutModel",
            "justify_items": null,
            "grid_row": null,
            "max_height": null,
            "align_content": null,
            "visibility": null,
            "align_self": null,
            "height": "auto",
            "min_height": null,
            "padding": null,
            "grid_auto_rows": null,
            "grid_gap": null,
            "max_width": null,
            "order": null,
            "_view_module_version": "1.2.0",
            "grid_template_areas": null,
            "object_position": null,
            "object_fit": null,
            "grid_auto_columns": null,
            "margin": null,
            "display": null,
            "left": null
          }
        },
        "e4f435d284a046aea2145f39e6035d7a": {
          "model_module": "@jupyter-widgets/controls",
          "model_name": "ButtonStyleModel",
          "state": {
            "_view_name": "StyleView",
            "_model_name": "ButtonStyleModel",
            "_view_module": "@jupyter-widgets/base",
            "_model_module_version": "1.5.0",
            "_view_count": null,
            "button_color": null,
            "font_weight": "",
            "_view_module_version": "1.2.0",
            "_model_module": "@jupyter-widgets/controls"
          }
        },
        "a85600b503be4ffeae7dfdae2da1ac6e": {
          "model_module": "@jupyter-widgets/base",
          "model_name": "LayoutModel",
          "state": {
            "_view_name": "LayoutView",
            "grid_template_rows": null,
            "right": null,
            "justify_content": null,
            "_view_module": "@jupyter-widgets/base",
            "overflow": null,
            "_model_module_version": "1.2.0",
            "_view_count": null,
            "flex_flow": null,
            "width": "300px",
            "min_width": null,
            "border": null,
            "align_items": null,
            "bottom": null,
            "_model_module": "@jupyter-widgets/base",
            "top": null,
            "grid_column": null,
            "overflow_y": null,
            "overflow_x": null,
            "grid_auto_flow": null,
            "grid_area": "right-sidebar",
            "grid_template_columns": null,
            "flex": null,
            "_model_name": "LayoutModel",
            "justify_items": null,
            "grid_row": null,
            "max_height": null,
            "align_content": null,
            "visibility": null,
            "align_self": null,
            "height": "auto",
            "min_height": null,
            "padding": null,
            "grid_auto_rows": null,
            "grid_gap": null,
            "max_width": null,
            "order": null,
            "_view_module_version": "1.2.0",
            "grid_template_areas": null,
            "object_position": null,
            "object_fit": null,
            "grid_auto_columns": null,
            "margin": null,
            "display": null,
            "left": null
          }
        },
        "30182ea0ac774b498ef3078dff21df1d": {
          "model_module": "@jupyter-widgets/controls",
          "model_name": "DescriptionStyleModel",
          "state": {
            "_view_name": "StyleView",
            "_model_name": "DescriptionStyleModel",
            "description_width": "",
            "_view_module": "@jupyter-widgets/base",
            "_model_module_version": "1.5.0",
            "_view_count": null,
            "_view_module_version": "1.2.0",
            "_model_module": "@jupyter-widgets/controls"
          }
        },
        "be90f26fe66f414e99c42f9da7aeb701": {
          "model_module": "@jupyter-widgets/base",
          "model_name": "LayoutModel",
          "state": {
            "_view_name": "LayoutView",
            "grid_template_rows": null,
            "right": null,
            "justify_content": null,
            "_view_module": "@jupyter-widgets/base",
            "overflow": null,
            "_model_module_version": "1.2.0",
            "_view_count": null,
            "flex_flow": null,
            "width": "auto",
            "min_width": null,
            "border": null,
            "align_items": null,
            "bottom": null,
            "_model_module": "@jupyter-widgets/base",
            "top": null,
            "grid_column": null,
            "overflow_y": null,
            "overflow_x": null,
            "grid_auto_flow": null,
            "grid_area": "center",
            "grid_template_columns": null,
            "flex": null,
            "_model_name": "LayoutModel",
            "justify_items": null,
            "grid_row": null,
            "max_height": null,
            "align_content": null,
            "visibility": null,
            "align_self": null,
            "height": "auto",
            "min_height": null,
            "padding": null,
            "grid_auto_rows": null,
            "grid_gap": null,
            "max_width": null,
            "order": null,
            "_view_module_version": "1.2.0",
            "grid_template_areas": null,
            "object_position": null,
            "object_fit": null,
            "grid_auto_columns": null,
            "margin": null,
            "display": null,
            "left": null
          }
        },
        "1a877aee7d9d4930bf150440a11652a4": {
          "model_module": "@jupyter-widgets/controls",
          "model_name": "GridBoxModel",
          "state": {
            "_view_name": "GridBoxView",
            "_dom_classes": [],
            "_model_name": "GridBoxModel",
            "_view_module": "@jupyter-widgets/controls",
            "_model_module_version": "1.5.0",
            "_view_count": null,
            "_view_module_version": "1.5.0",
            "box_style": "",
            "layout": "IPY_MODEL_c6653a8a92d4497698289763e033dad9",
            "_model_module": "@jupyter-widgets/controls",
            "children": [
              "IPY_MODEL_f7df3420a9fd465da60afc12f36355da",
              "IPY_MODEL_2ac7cd525d374b6988b0d144b2f5be98",
              "IPY_MODEL_e93a4d51945641f2b820f823ecc3e47c"
            ]
          }
        },
        "c6653a8a92d4497698289763e033dad9": {
          "model_module": "@jupyter-widgets/base",
          "model_name": "LayoutModel",
          "state": {
            "_view_name": "LayoutView",
            "grid_template_rows": "1fr 3fr",
            "right": null,
            "justify_content": null,
            "_view_module": "@jupyter-widgets/base",
            "overflow": null,
            "_model_module_version": "1.2.0",
            "_view_count": null,
            "flex_flow": null,
            "width": null,
            "min_width": null,
            "border": null,
            "align_items": null,
            "bottom": null,
            "_model_module": "@jupyter-widgets/base",
            "top": null,
            "grid_column": null,
            "overflow_y": null,
            "overflow_x": null,
            "grid_auto_flow": null,
            "grid_area": null,
            "grid_template_columns": "1fr 2fr 1fr",
            "flex": null,
            "_model_name": "LayoutModel",
            "justify_items": null,
            "grid_row": null,
            "max_height": null,
            "align_content": null,
            "visibility": null,
            "align_self": null,
            "height": null,
            "min_height": null,
            "padding": null,
            "grid_auto_rows": null,
            "grid_gap": null,
            "max_width": null,
            "order": null,
            "_view_module_version": "1.2.0",
            "grid_template_areas": "\"header header header\"\n\"center center right-sidebar\"",
            "object_position": null,
            "object_fit": null,
            "grid_auto_columns": null,
            "margin": null,
            "display": null,
            "left": null
          }
        },
        "f7df3420a9fd465da60afc12f36355da": {
          "model_module": "@jupyter-widgets/controls",
          "model_name": "ButtonModel",
          "state": {
            "_view_name": "ButtonView",
            "style": "IPY_MODEL_5fc5bd975ae84b299936e7349a087385",
            "_dom_classes": [],
            "description": "Search based on your keywords",
            "_model_name": "ButtonModel",
            "button_style": "success",
            "_view_module": "@jupyter-widgets/controls",
            "_model_module_version": "1.5.0",
            "tooltip": "",
            "_view_count": null,
            "disabled": false,
            "_view_module_version": "1.5.0",
            "layout": "IPY_MODEL_5572a8db0ca6481e8083534a0f96f1e3",
            "_model_module": "@jupyter-widgets/controls",
            "icon": ""
          }
        },
        "2ac7cd525d374b6988b0d144b2f5be98": {
          "model_module": "@jupyter-widgets/controls",
          "model_name": "ButtonModel",
          "state": {
            "_view_name": "ButtonView",
            "style": "IPY_MODEL_1989bc7407d643ec9030517a9f7d8149",
            "_dom_classes": [],
            "description": "Search for startups",
            "_model_name": "ButtonModel",
            "button_style": "",
            "_view_module": "@jupyter-widgets/controls",
            "_model_module_version": "1.5.0",
            "tooltip": "",
            "_view_count": null,
            "disabled": false,
            "_view_module_version": "1.5.0",
            "layout": "IPY_MODEL_70f5767578534b759d07aaecf231c2d7",
            "_model_module": "@jupyter-widgets/controls",
            "icon": ""
          }
        },
        "e93a4d51945641f2b820f823ecc3e47c": {
          "model_module": "@jupyter-widgets/controls",
          "model_name": "TextareaModel",
          "state": {
            "_view_name": "TextareaView",
            "style": "IPY_MODEL_a08c5acc6d0f4a3494ccf68d428e936b",
            "rows": null,
            "_dom_classes": [],
            "description": "3 keywords",
            "_model_name": "TextareaModel",
            "placeholder": "Put your keywords in English here",
            "_view_module": "@jupyter-widgets/controls",
            "_model_module_version": "1.5.0",
            "value": "",
            "_view_count": null,
            "disabled": false,
            "_view_module_version": "1.5.0",
            "continuous_update": true,
            "description_tooltip": null,
            "_model_module": "@jupyter-widgets/controls",
            "layout": "IPY_MODEL_3267c79e2ee7416dbd0591a2d8df5fd9"
          }
        },
        "5fc5bd975ae84b299936e7349a087385": {
          "model_module": "@jupyter-widgets/controls",
          "model_name": "ButtonStyleModel",
          "state": {
            "_view_name": "StyleView",
            "_model_name": "ButtonStyleModel",
            "_view_module": "@jupyter-widgets/base",
            "_model_module_version": "1.5.0",
            "_view_count": null,
            "button_color": null,
            "font_weight": "",
            "_view_module_version": "1.2.0",
            "_model_module": "@jupyter-widgets/controls"
          }
        },
        "5572a8db0ca6481e8083534a0f96f1e3": {
          "model_module": "@jupyter-widgets/base",
          "model_name": "LayoutModel",
          "state": {
            "_view_name": "LayoutView",
            "grid_template_rows": null,
            "right": null,
            "justify_content": null,
            "_view_module": "@jupyter-widgets/base",
            "overflow": null,
            "_model_module_version": "1.2.0",
            "_view_count": null,
            "flex_flow": null,
            "width": "auto",
            "min_width": null,
            "border": null,
            "align_items": null,
            "bottom": null,
            "_model_module": "@jupyter-widgets/base",
            "top": null,
            "grid_column": null,
            "overflow_y": null,
            "overflow_x": null,
            "grid_auto_flow": null,
            "grid_area": "header",
            "grid_template_columns": null,
            "flex": null,
            "_model_name": "LayoutModel",
            "justify_items": null,
            "grid_row": null,
            "max_height": null,
            "align_content": null,
            "visibility": null,
            "align_self": null,
            "height": "auto",
            "min_height": null,
            "padding": null,
            "grid_auto_rows": null,
            "grid_gap": null,
            "max_width": null,
            "order": null,
            "_view_module_version": "1.2.0",
            "grid_template_areas": null,
            "object_position": null,
            "object_fit": null,
            "grid_auto_columns": null,
            "margin": null,
            "display": null,
            "left": null
          }
        },
        "1989bc7407d643ec9030517a9f7d8149": {
          "model_module": "@jupyter-widgets/controls",
          "model_name": "ButtonStyleModel",
          "state": {
            "_view_name": "StyleView",
            "_model_name": "ButtonStyleModel",
            "_view_module": "@jupyter-widgets/base",
            "_model_module_version": "1.5.0",
            "_view_count": null,
            "button_color": null,
            "font_weight": "",
            "_view_module_version": "1.2.0",
            "_model_module": "@jupyter-widgets/controls"
          }
        },
        "70f5767578534b759d07aaecf231c2d7": {
          "model_module": "@jupyter-widgets/base",
          "model_name": "LayoutModel",
          "state": {
            "_view_name": "LayoutView",
            "grid_template_rows": null,
            "right": null,
            "justify_content": null,
            "_view_module": "@jupyter-widgets/base",
            "overflow": null,
            "_model_module_version": "1.2.0",
            "_view_count": null,
            "flex_flow": null,
            "width": "300px",
            "min_width": null,
            "border": null,
            "align_items": null,
            "bottom": null,
            "_model_module": "@jupyter-widgets/base",
            "top": null,
            "grid_column": null,
            "overflow_y": null,
            "overflow_x": null,
            "grid_auto_flow": null,
            "grid_area": "right-sidebar",
            "grid_template_columns": null,
            "flex": null,
            "_model_name": "LayoutModel",
            "justify_items": null,
            "grid_row": null,
            "max_height": null,
            "align_content": null,
            "visibility": null,
            "align_self": null,
            "height": "auto",
            "min_height": null,
            "padding": null,
            "grid_auto_rows": null,
            "grid_gap": null,
            "max_width": null,
            "order": null,
            "_view_module_version": "1.2.0",
            "grid_template_areas": null,
            "object_position": null,
            "object_fit": null,
            "grid_auto_columns": null,
            "margin": null,
            "display": null,
            "left": null
          }
        },
        "a08c5acc6d0f4a3494ccf68d428e936b": {
          "model_module": "@jupyter-widgets/controls",
          "model_name": "DescriptionStyleModel",
          "state": {
            "_view_name": "StyleView",
            "_model_name": "DescriptionStyleModel",
            "description_width": "",
            "_view_module": "@jupyter-widgets/base",
            "_model_module_version": "1.5.0",
            "_view_count": null,
            "_view_module_version": "1.2.0",
            "_model_module": "@jupyter-widgets/controls"
          }
        },
        "3267c79e2ee7416dbd0591a2d8df5fd9": {
          "model_module": "@jupyter-widgets/base",
          "model_name": "LayoutModel",
          "state": {
            "_view_name": "LayoutView",
            "grid_template_rows": null,
            "right": null,
            "justify_content": null,
            "_view_module": "@jupyter-widgets/base",
            "overflow": null,
            "_model_module_version": "1.2.0",
            "_view_count": null,
            "flex_flow": null,
            "width": "auto",
            "min_width": null,
            "border": null,
            "align_items": null,
            "bottom": null,
            "_model_module": "@jupyter-widgets/base",
            "top": null,
            "grid_column": null,
            "overflow_y": null,
            "overflow_x": null,
            "grid_auto_flow": null,
            "grid_area": "center",
            "grid_template_columns": null,
            "flex": null,
            "_model_name": "LayoutModel",
            "justify_items": null,
            "grid_row": null,
            "max_height": null,
            "align_content": null,
            "visibility": null,
            "align_self": null,
            "height": "auto",
            "min_height": null,
            "padding": null,
            "grid_auto_rows": null,
            "grid_gap": null,
            "max_width": null,
            "order": null,
            "_view_module_version": "1.2.0",
            "grid_template_areas": null,
            "object_position": null,
            "object_fit": null,
            "grid_auto_columns": null,
            "margin": null,
            "display": null,
            "left": null
          }
        }
      }
    }
  },
  "cells": [
    {
      "cell_type": "markdown",
      "metadata": {
        "id": "a6_HImEqQGAJ",
        "colab_type": "text"
      },
      "source": [
        "# Market Research Tool \n",
        "Except as represented in this agreement, all work product by Developer is provided ​“AS IS”. Other than as provided in this agreement, Developer makes no other warranties, express or implied, and hereby disclaims all implied warranties, including any warranty of merchantability and warranty of fitness for a particular purpose.\n",
        "\n",
        "#### Search API limits amount of queries in one session that's why you might experience errors."
      ]
    },
    {
      "cell_type": "code",
      "metadata": {
        "id": "n1bdsjMxkMEt",
        "colab_type": "code",
        "colab": {}
      },
      "source": [
        "%%capture\n",
        "pip install google"
      ],
      "execution_count": 0,
      "outputs": []
    },
    {
      "cell_type": "code",
      "metadata": {
        "id": "fzZ6O6t0klBw",
        "colab_type": "code",
        "colab": {}
      },
      "source": [
        "%%capture\n",
        "pip install summa"
      ],
      "execution_count": 0,
      "outputs": []
    },
    {
      "cell_type": "code",
      "metadata": {
        "id": "DsYz3yUfmli3",
        "colab_type": "code",
        "colab": {}
      },
      "source": [
        "%%capture\n",
        "pip install textblob"
      ],
      "execution_count": 0,
      "outputs": []
    },
    {
      "cell_type": "code",
      "metadata": {
        "id": "wf0t4waurjPX",
        "colab_type": "code",
        "colab": {}
      },
      "source": [
        "%%capture\n",
        "pip install beautifulsoup4"
      ],
      "execution_count": 0,
      "outputs": []
    },
    {
      "cell_type": "code",
      "metadata": {
        "id": "2-PlB5hJPl9D",
        "colab_type": "code",
        "colab": {}
      },
      "source": [
        "from ipywidgets import AppLayout, Button, Layout\n",
        "def create_expanded_button(description, button_style):\n",
        "    return Button(description=description, button_style=button_style, layout=Layout(height='auto', width='auto'))"
      ],
      "execution_count": 0,
      "outputs": []
    },
    {
      "cell_type": "code",
      "metadata": {
        "id": "pqJpxZXMPpKt",
        "colab_type": "code",
        "outputId": "5c5f33ce-1821-4faa-8bf1-08216cd25194",
        "colab": {
          "base_uri": "https://localhost:8080/",
          "height": 17
        }
      },
      "source": [
        "%%javascript\n",
        "IPython.OutputArea.prototype._should_scroll = function(lines) {\n",
        "    return false;\n",
        "}"
      ],
      "execution_count": 0,
      "outputs": [
        {
          "output_type": "display_data",
          "data": {
            "application/javascript": [
              "IPython.OutputArea.prototype._should_scroll = function(lines) {\n",
              "    return false;\n",
              "}"
            ],
            "text/plain": [
              "<IPython.core.display.Javascript object>"
            ]
          },
          "metadata": {
            "tags": []
          }
        }
      ]
    },
    {
      "cell_type": "code",
      "metadata": {
        "id": "D6Z31IfxPsnx",
        "colab_type": "code",
        "colab": {}
      },
      "source": [
        "header_button1 = create_expanded_button('Search based on Dutch text', 'success')\n",
        "header_button2 = create_expanded_button('Search based on your keywords', 'success')"
      ],
      "execution_count": 0,
      "outputs": []
    },
    {
      "cell_type": "code",
      "metadata": {
        "id": "UU6S8QasPtLL",
        "colab_type": "code",
        "colab": {
          "base_uri": "https://localhost:8080/",
          "height": 363
        },
        "outputId": "b0df8137-8d06-4fc8-e963-e29e974b68bf"
      },
      "source": [
        "import ipywidgets as widgets\n",
        "from IPython.display import display\n",
        "from summa.summarizer import summarize\n",
        "import textblob\n",
        "from googlesearch import search\n",
        "\n",
        "\n",
        "text = widgets.Textarea(\n",
        "    placeholder='Copy text from your document here',\n",
        "    description='Input text',\n",
        "    disabled=False,\n",
        "    layout={'width': 'auto','height':'auto'}\n",
        ")\n",
        "\n",
        "button = widgets.Button(description=\"Generate keywords and search for startups\", layout={'width': '300px','height':'auto'})\n",
        "\n",
        "\n",
        "def on_button_clicked(b):\n",
        "    data1 = str(text.value)\n",
        "    data = data1.replace('\\n', '')\n",
        "\n",
        "    summary = summarize(data, language='english', words=20)\n",
        "\n",
        "    print(\"\\nYour document summary\\n\")\n",
        "    print(summary)\n",
        "\n",
        "    from textblob import TextBlob\n",
        "    from summa import keywords\n",
        "    keywords1 = keywords.keywords(data,words=2,language='english')\n",
        "\n",
        "    nl_blob = TextBlob(keywords1)\n",
        "    nl_blob.detect_language()\n",
        "\n",
        "\n",
        "    keywords2 = nl_blob.translate(to='en')\n",
        "    keywords = str(keywords2)\n",
        "\n",
        "    print(\"\\nProposed keywords\\n\")\n",
        "    print(keywords)\n",
        "    \n",
        "    print(\"\\nANGEL.CO\\n\")\n",
        "    \n",
        "\n",
        "    try: \n",
        "        from googlesearch import search \n",
        "    except ImportError:  \n",
        "        print(\"No module named 'google' found\") \n",
        "\n",
        "    # to search \n",
        "    query = \"site: angel.co \"+keywords\n",
        "    for j in search(query, tld=\"co.in\", num=10, stop=10, pause=2,): \n",
        "        print(j) \n",
        "button.on_click(on_button_clicked)\n",
        "\n",
        "\n",
        "text1 = widgets.Textarea(\n",
        "    placeholder='Put your keywords in English here',\n",
        "    description='3 keywords',\n",
        "    disabled=False,\n",
        "    layout={'width': 'auto','height':'auto'}\n",
        ")\n",
        "\n",
        "button1 = widgets.Button(description=\"Search for startups\", layout={'width': '300px','height':'auto'})   \n",
        "\n",
        "\n",
        "def on_button_clicked1(b):\n",
        "    print(\"\\nANGEL.CO\\n\")\n",
        "    \n",
        "    try: \n",
        "        from googlesearch import search \n",
        "    except ImportError:  \n",
        "        print(\"No module named 'google' found\") \n",
        "\n",
        "    # to search \n",
        "    query = \"site: angel.co \"+str(text1.value)\n",
        "    for j in search(query, tld=\"co.in\", num=10, stop=10, pause=2,): \n",
        "        print(j) \n",
        "        \n",
        "\n",
        "button1.on_click(on_button_clicked1)\n",
        "\n",
        "\n"
      ],
      "execution_count": 41,
      "outputs": [
        {
          "output_type": "error",
          "ename": "ImportError",
          "evalue": "ignored",
          "traceback": [
            "\u001b[0;31m---------------------------------------------------------------------------\u001b[0m",
            "\u001b[0;31mImportError\u001b[0m                               Traceback (most recent call last)",
            "\u001b[0;32m<ipython-input-41-67bae05f1eb6>\u001b[0m in \u001b[0;36m<module>\u001b[0;34m()\u001b[0m\n\u001b[1;32m      3\u001b[0m \u001b[0;32mfrom\u001b[0m \u001b[0msumma\u001b[0m\u001b[0;34m.\u001b[0m\u001b[0msummarizer\u001b[0m \u001b[0;32mimport\u001b[0m \u001b[0msummarize\u001b[0m\u001b[0;34m\u001b[0m\u001b[0;34m\u001b[0m\u001b[0m\n\u001b[1;32m      4\u001b[0m \u001b[0;32mimport\u001b[0m \u001b[0mtextblob\u001b[0m\u001b[0;34m\u001b[0m\u001b[0;34m\u001b[0m\u001b[0m\n\u001b[0;32m----> 5\u001b[0;31m \u001b[0;32mfrom\u001b[0m \u001b[0mgooglesearch\u001b[0m \u001b[0;32mimport\u001b[0m \u001b[0msearch\u001b[0m\u001b[0;34m\u001b[0m\u001b[0;34m\u001b[0m\u001b[0m\n\u001b[0m\u001b[1;32m      6\u001b[0m \u001b[0;34m\u001b[0m\u001b[0m\n\u001b[1;32m      7\u001b[0m \u001b[0;34m\u001b[0m\u001b[0m\n",
            "\u001b[0;31mImportError\u001b[0m: cannot import name 'search'",
            "",
            "\u001b[0;31m---------------------------------------------------------------------------\u001b[0;32m\nNOTE: If your import is failing due to a missing package, you can\nmanually install dependencies using either !pip or !apt.\n\nTo view examples of installing some common dependencies, click the\n\"Open Examples\" button below.\n\u001b[0;31m---------------------------------------------------------------------------\u001b[0m\n"
          ]
        }
      ]
    },
    {
      "cell_type": "code",
      "metadata": {
        "id": "r9-uiwsBumBQ",
        "colab_type": "code",
        "colab": {}
      },
      "source": [
        ""
      ],
      "execution_count": 0,
      "outputs": []
    },
    {
      "cell_type": "code",
      "metadata": {
        "id": "9xa-dyFuPvBP",
        "colab_type": "code",
        "outputId": "422760da-292f-4d17-c303-05902c68559f",
        "colab": {
          "base_uri": "https://localhost:8080/",
          "height": 575,
          "referenced_widgets": [
            "d4782682b351492bb3b74f52000e3a1e",
            "7399290f3b594ef297587b75fcbe21b2",
            "ac39880843904976ba18288290220464",
            "694c8ffcb74c4632ad419d3aba6c9f85",
            "40095baff2da4201bf0cc0f2ac47d74c",
            "47607b276c0041d3ab07980eace3db83",
            "242345a66fe44965b3d9a7fd35c5bca2",
            "e4f435d284a046aea2145f39e6035d7a",
            "a85600b503be4ffeae7dfdae2da1ac6e",
            "30182ea0ac774b498ef3078dff21df1d",
            "be90f26fe66f414e99c42f9da7aeb701"
          ]
        }
      },
      "source": [
        "AppLayout(header=header_button1,\n",
        "          center=text,\n",
        "          right_sidebar=button)"
      ],
      "execution_count": 34,
      "outputs": [
        {
          "output_type": "display_data",
          "data": {
            "application/vnd.jupyter.widget-view+json": {
              "model_id": "d4782682b351492bb3b74f52000e3a1e",
              "version_minor": 0,
              "version_major": 2
            },
            "text/plain": [
              "AppLayout(children=(Button(button_style='success', description='Search based on Dutch text', layout=Layout(gri…"
            ]
          },
          "metadata": {
            "tags": []
          }
        },
        {
          "output_type": "stream",
          "text": [
            "\n",
            "Your document summary\n",
            "\n",
            "\n",
            "\n",
            "Proposed keywords\n",
            "\n",
            "a\n",
            "from\n",
            "\n",
            "ANGEL.CO\n",
            "\n",
            "No module named 'google' found\n"
          ],
          "name": "stdout"
        },
        {
          "output_type": "error",
          "ename": "UnboundLocalError",
          "evalue": "ignored",
          "traceback": [
            "\u001b[0;31m---------------------------------------------------------------------------\u001b[0m",
            "\u001b[0;31mUnboundLocalError\u001b[0m                         Traceback (most recent call last)",
            "\u001b[0;32m<ipython-input-33-8893d4abe598>\u001b[0m in \u001b[0;36mon_button_clicked\u001b[0;34m(b)\u001b[0m\n\u001b[1;32m     50\u001b[0m     \u001b[0;31m# to search\u001b[0m\u001b[0;34m\u001b[0m\u001b[0;34m\u001b[0m\u001b[0;34m\u001b[0m\u001b[0m\n\u001b[1;32m     51\u001b[0m     \u001b[0mquery\u001b[0m \u001b[0;34m=\u001b[0m \u001b[0;34m\"site: angel.co \"\u001b[0m\u001b[0;34m+\u001b[0m\u001b[0mkeywords\u001b[0m\u001b[0;34m\u001b[0m\u001b[0;34m\u001b[0m\u001b[0m\n\u001b[0;32m---> 52\u001b[0;31m     \u001b[0;32mfor\u001b[0m \u001b[0mj\u001b[0m \u001b[0;32min\u001b[0m \u001b[0msearch\u001b[0m\u001b[0;34m(\u001b[0m\u001b[0mquery\u001b[0m\u001b[0;34m,\u001b[0m \u001b[0mtld\u001b[0m\u001b[0;34m=\u001b[0m\u001b[0;34m\"co.in\"\u001b[0m\u001b[0;34m,\u001b[0m \u001b[0mnum\u001b[0m\u001b[0;34m=\u001b[0m\u001b[0;36m10\u001b[0m\u001b[0;34m,\u001b[0m \u001b[0mstop\u001b[0m\u001b[0;34m=\u001b[0m\u001b[0;36m10\u001b[0m\u001b[0;34m,\u001b[0m \u001b[0mpause\u001b[0m\u001b[0;34m=\u001b[0m\u001b[0;36m2\u001b[0m\u001b[0;34m,\u001b[0m\u001b[0;34m)\u001b[0m\u001b[0;34m:\u001b[0m\u001b[0;34m\u001b[0m\u001b[0;34m\u001b[0m\u001b[0m\n\u001b[0m\u001b[1;32m     53\u001b[0m         \u001b[0mprint\u001b[0m\u001b[0;34m(\u001b[0m\u001b[0mj\u001b[0m\u001b[0;34m)\u001b[0m\u001b[0;34m\u001b[0m\u001b[0;34m\u001b[0m\u001b[0m\n\u001b[1;32m     54\u001b[0m \u001b[0mbutton\u001b[0m\u001b[0;34m.\u001b[0m\u001b[0mon_click\u001b[0m\u001b[0;34m(\u001b[0m\u001b[0mon_button_clicked\u001b[0m\u001b[0;34m)\u001b[0m\u001b[0;34m\u001b[0m\u001b[0;34m\u001b[0m\u001b[0m\n",
            "\u001b[0;31mUnboundLocalError\u001b[0m: local variable 'search' referenced before assignment"
          ]
        }
      ]
    },
    {
      "cell_type": "code",
      "metadata": {
        "id": "k5t8_8UrPxeS",
        "colab_type": "code",
        "outputId": "4541d27d-4c3e-4b18-c219-40b4f2490445",
        "colab": {
          "base_uri": "https://localhost:8080/",
          "height": 424,
          "referenced_widgets": [
            "1a877aee7d9d4930bf150440a11652a4",
            "c6653a8a92d4497698289763e033dad9",
            "f7df3420a9fd465da60afc12f36355da",
            "2ac7cd525d374b6988b0d144b2f5be98",
            "e93a4d51945641f2b820f823ecc3e47c",
            "5fc5bd975ae84b299936e7349a087385",
            "5572a8db0ca6481e8083534a0f96f1e3",
            "1989bc7407d643ec9030517a9f7d8149",
            "70f5767578534b759d07aaecf231c2d7",
            "a08c5acc6d0f4a3494ccf68d428e936b",
            "3267c79e2ee7416dbd0591a2d8df5fd9"
          ]
        }
      },
      "source": [
        "AppLayout(header=header_button2,\n",
        "          center=text1,\n",
        "          right_sidebar=button1)"
      ],
      "execution_count": 31,
      "outputs": [
        {
          "output_type": "display_data",
          "data": {
            "application/vnd.jupyter.widget-view+json": {
              "model_id": "1a877aee7d9d4930bf150440a11652a4",
              "version_minor": 0,
              "version_major": 2
            },
            "text/plain": [
              "AppLayout(children=(Button(button_style='success', description='Search based on your keywords', layout=Layout(…"
            ]
          },
          "metadata": {
            "tags": []
          }
        },
        {
          "output_type": "stream",
          "text": [
            "\n",
            "ANGEL.CO\n",
            "\n",
            "No module named 'google' found\n"
          ],
          "name": "stdout"
        },
        {
          "output_type": "error",
          "ename": "UnboundLocalError",
          "evalue": "ignored",
          "traceback": [
            "\u001b[0;31m---------------------------------------------------------------------------\u001b[0m",
            "\u001b[0;31mUnboundLocalError\u001b[0m                         Traceback (most recent call last)",
            "\u001b[0;32m<ipython-input-30-2f5c74760c95>\u001b[0m in \u001b[0;36mon_button_clicked1\u001b[0;34m(b)\u001b[0m\n\u001b[1;32m     77\u001b[0m     \u001b[0;31m# to search\u001b[0m\u001b[0;34m\u001b[0m\u001b[0;34m\u001b[0m\u001b[0;34m\u001b[0m\u001b[0m\n\u001b[1;32m     78\u001b[0m     \u001b[0mquery\u001b[0m \u001b[0;34m=\u001b[0m \u001b[0;34m\"site: angel.co \"\u001b[0m\u001b[0;34m+\u001b[0m\u001b[0mstr\u001b[0m\u001b[0;34m(\u001b[0m\u001b[0mtext1\u001b[0m\u001b[0;34m.\u001b[0m\u001b[0mvalue\u001b[0m\u001b[0;34m)\u001b[0m\u001b[0;34m\u001b[0m\u001b[0;34m\u001b[0m\u001b[0m\n\u001b[0;32m---> 79\u001b[0;31m     \u001b[0;32mfor\u001b[0m \u001b[0mj\u001b[0m \u001b[0;32min\u001b[0m \u001b[0msearch\u001b[0m\u001b[0;34m(\u001b[0m\u001b[0mquery\u001b[0m\u001b[0;34m,\u001b[0m \u001b[0mtld\u001b[0m\u001b[0;34m=\u001b[0m\u001b[0;34m\"co.in\"\u001b[0m\u001b[0;34m,\u001b[0m \u001b[0mnum\u001b[0m\u001b[0;34m=\u001b[0m\u001b[0;36m10\u001b[0m\u001b[0;34m,\u001b[0m \u001b[0mstop\u001b[0m\u001b[0;34m=\u001b[0m\u001b[0;36m10\u001b[0m\u001b[0;34m,\u001b[0m \u001b[0mpause\u001b[0m\u001b[0;34m=\u001b[0m\u001b[0;36m2\u001b[0m\u001b[0;34m,\u001b[0m\u001b[0;34m)\u001b[0m\u001b[0;34m:\u001b[0m\u001b[0;34m\u001b[0m\u001b[0;34m\u001b[0m\u001b[0m\n\u001b[0m\u001b[1;32m     80\u001b[0m         \u001b[0mprint\u001b[0m\u001b[0;34m(\u001b[0m\u001b[0mj\u001b[0m\u001b[0;34m)\u001b[0m\u001b[0;34m\u001b[0m\u001b[0;34m\u001b[0m\u001b[0m\n\u001b[1;32m     81\u001b[0m \u001b[0;34m\u001b[0m\u001b[0m\n",
            "\u001b[0;31mUnboundLocalError\u001b[0m: local variable 'search' referenced before assignment"
          ]
        }
      ]
    }
  ]
}